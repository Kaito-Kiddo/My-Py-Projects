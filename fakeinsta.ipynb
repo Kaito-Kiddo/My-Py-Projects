{
 "cells": [
  {
   "cell_type": "markdown",
   "id": "e33c0344",
   "metadata": {
    "id": "vqgA_yPbGFnM",
    "papermill": {
     "duration": 0.021005,
     "end_time": "2023-05-06T18:31:55.099432",
     "exception": false,
     "start_time": "2023-05-06T18:31:55.078427",
     "status": "completed"
    },
    "tags": []
   },
   "source": [
    "# TASK #1: UNDERSTAND THE PROBLEM STATEMENT AND BUSINESS CASE"
   ]
  },
  {
   "cell_type": "markdown",
   "id": "7be7993a",
   "metadata": {
    "id": "3n66xj4BGKWM",
    "papermill": {
     "duration": 0.019211,
     "end_time": "2023-05-06T18:31:55.138038",
     "exception": false,
     "start_time": "2023-05-06T18:31:55.118827",
     "status": "completed"
    },
    "tags": []
   },
   "source": [
    "# TASK #2: IMPORT DATASETS AND LIBRARIES"
   ]
  },
  {
   "cell_type": "code",
   "execution_count": 1,
   "id": "80b412dc",
   "metadata": {
    "execution": {
     "iopub.execute_input": "2023-05-06T18:31:55.181626Z",
     "iopub.status.busy": "2023-05-06T18:31:55.180790Z",
     "iopub.status.idle": "2023-05-06T18:31:55.199482Z",
     "shell.execute_reply": "2023-05-06T18:31:55.198678Z"
    },
    "papermill": {
     "duration": 0.042733,
     "end_time": "2023-05-06T18:31:55.201863",
     "exception": false,
     "start_time": "2023-05-06T18:31:55.159130",
     "status": "completed"
    },
    "tags": []
   },
   "outputs": [
    {
     "name": "stdout",
     "output_type": "stream",
     "text": [
      "/kaggle/input/fake-insta-profile/insta_test.csv\n",
      "/kaggle/input/fake-insta-profile/insta_train.csv\n"
     ]
    }
   ],
   "source": [
    "import os\n",
    "for dirname, _, filenames in os.walk('/kaggle/input'):\n",
    "    for filename in filenames:\n",
    "        print(os.path.join(dirname, filename))"
   ]
  },
  {
   "cell_type": "code",
   "execution_count": 2,
   "id": "48d71cbd",
   "metadata": {
    "execution": {
     "iopub.execute_input": "2023-05-06T18:31:55.237248Z",
     "iopub.status.busy": "2023-05-06T18:31:55.236613Z",
     "iopub.status.idle": "2023-05-06T18:31:56.266524Z",
     "shell.execute_reply": "2023-05-06T18:31:56.264958Z"
    },
    "papermill": {
     "duration": 1.050704,
     "end_time": "2023-05-06T18:31:56.269192",
     "exception": false,
     "start_time": "2023-05-06T18:31:55.218488",
     "status": "completed"
    },
    "tags": []
   },
   "outputs": [
    {
     "name": "stdout",
     "output_type": "stream",
     "text": [
      "total 0\r\n",
      "drwxr-xr-x 2 nobody nogroup 0 May  6 16:59 fake-insta-profile\r\n"
     ]
    }
   ],
   "source": [
    "! ls -l /kaggle/input/"
   ]
  },
  {
   "cell_type": "code",
   "execution_count": 3,
   "id": "0c7f3f71",
   "metadata": {
    "execution": {
     "iopub.execute_input": "2023-05-06T18:31:56.303948Z",
     "iopub.status.busy": "2023-05-06T18:31:56.303516Z",
     "iopub.status.idle": "2023-05-06T18:32:06.891441Z",
     "shell.execute_reply": "2023-05-06T18:32:06.890456Z"
    },
    "id": "KVxYSMIUxx_U",
    "papermill": {
     "duration": 10.608438,
     "end_time": "2023-05-06T18:32:06.893944",
     "exception": false,
     "start_time": "2023-05-06T18:31:56.285506",
     "status": "completed"
    },
    "tags": []
   },
   "outputs": [
    {
     "name": "stderr",
     "output_type": "stream",
     "text": [
      "/opt/conda/lib/python3.10/site-packages/scipy/__init__.py:146: UserWarning: A NumPy version >=1.16.5 and <1.23.0 is required for this version of SciPy (detected version 1.23.5\n",
      "  warnings.warn(f\"A NumPy version >={np_minversion} and <{np_maxversion}\"\n"
     ]
    }
   ],
   "source": [
    "import pandas as pd\n",
    "import matplotlib.pyplot as plt\n",
    "import numpy as np\n",
    "import seaborn as sns\n",
    "\n",
    "import tensorflow as tf\n",
    "from tensorflow import keras\n",
    "from tensorflow.keras.layers import Dense, Activation, Dropout\n",
    "from tensorflow.keras.optimizers import Adam\n",
    "from tensorflow.keras.metrics import Accuracy\n",
    "\n",
    "from sklearn import metrics\n",
    "from sklearn.preprocessing import LabelEncoder\n",
    "from sklearn.metrics import classification_report,accuracy_score,roc_curve,confusion_matrix\n"
   ]
  },
  {
   "cell_type": "code",
   "execution_count": 4,
   "id": "d85f3a85",
   "metadata": {
    "execution": {
     "iopub.execute_input": "2023-05-06T18:32:06.930695Z",
     "iopub.status.busy": "2023-05-06T18:32:06.929437Z",
     "iopub.status.idle": "2023-05-06T18:32:06.934006Z",
     "shell.execute_reply": "2023-05-06T18:32:06.933195Z"
    },
    "papermill": {
     "duration": 0.024783,
     "end_time": "2023-05-06T18:32:06.936106",
     "exception": false,
     "start_time": "2023-05-06T18:32:06.911323",
     "status": "completed"
    },
    "tags": []
   },
   "outputs": [],
   "source": [
    "# from jupyterthemes import jtplot\n",
    "# jtplot.style(theme='monokai', context='notebook', ticks=True, grid=False) \n",
    "# setting the style of the notebook to be monokai theme  \n",
    "# this line of code is important to ensure that we are able to see the x and y axes clearly\n",
    "# If you don't run this code line, you will notice that the xlabel and ylabel on any plot is black on black and it will be hard to see them. "
   ]
  },
  {
   "cell_type": "code",
   "execution_count": 5,
   "id": "0f16483b",
   "metadata": {
    "execution": {
     "iopub.execute_input": "2023-05-06T18:32:06.971410Z",
     "iopub.status.busy": "2023-05-06T18:32:06.970398Z",
     "iopub.status.idle": "2023-05-06T18:32:07.040254Z",
     "shell.execute_reply": "2023-05-06T18:32:07.039069Z"
    },
    "papermill": {
     "duration": 0.089926,
     "end_time": "2023-05-06T18:32:07.042586",
     "exception": false,
     "start_time": "2023-05-06T18:32:06.952660",
     "status": "completed"
    },
    "tags": []
   },
   "outputs": [
    {
     "data": {
      "text/html": [
       "<div>\n",
       "<style scoped>\n",
       "    .dataframe tbody tr th:only-of-type {\n",
       "        vertical-align: middle;\n",
       "    }\n",
       "\n",
       "    .dataframe tbody tr th {\n",
       "        vertical-align: top;\n",
       "    }\n",
       "\n",
       "    .dataframe thead th {\n",
       "        text-align: right;\n",
       "    }\n",
       "</style>\n",
       "<table border=\"1\" class=\"dataframe\">\n",
       "  <thead>\n",
       "    <tr style=\"text-align: right;\">\n",
       "      <th></th>\n",
       "      <th>profile pic</th>\n",
       "      <th>nums/length username</th>\n",
       "      <th>fullname words</th>\n",
       "      <th>nums/length fullname</th>\n",
       "      <th>name==username</th>\n",
       "      <th>description length</th>\n",
       "      <th>external URL</th>\n",
       "      <th>private</th>\n",
       "      <th>#posts</th>\n",
       "      <th>#followers</th>\n",
       "      <th>#follows</th>\n",
       "      <th>fake</th>\n",
       "    </tr>\n",
       "  </thead>\n",
       "  <tbody>\n",
       "    <tr>\n",
       "      <th>0</th>\n",
       "      <td>1</td>\n",
       "      <td>0.27</td>\n",
       "      <td>0</td>\n",
       "      <td>0.00</td>\n",
       "      <td>0</td>\n",
       "      <td>53</td>\n",
       "      <td>0</td>\n",
       "      <td>0</td>\n",
       "      <td>32</td>\n",
       "      <td>1000</td>\n",
       "      <td>955</td>\n",
       "      <td>0</td>\n",
       "    </tr>\n",
       "    <tr>\n",
       "      <th>1</th>\n",
       "      <td>1</td>\n",
       "      <td>0.00</td>\n",
       "      <td>2</td>\n",
       "      <td>0.00</td>\n",
       "      <td>0</td>\n",
       "      <td>44</td>\n",
       "      <td>0</td>\n",
       "      <td>0</td>\n",
       "      <td>286</td>\n",
       "      <td>2740</td>\n",
       "      <td>533</td>\n",
       "      <td>0</td>\n",
       "    </tr>\n",
       "    <tr>\n",
       "      <th>2</th>\n",
       "      <td>1</td>\n",
       "      <td>0.10</td>\n",
       "      <td>2</td>\n",
       "      <td>0.00</td>\n",
       "      <td>0</td>\n",
       "      <td>0</td>\n",
       "      <td>0</td>\n",
       "      <td>1</td>\n",
       "      <td>13</td>\n",
       "      <td>159</td>\n",
       "      <td>98</td>\n",
       "      <td>0</td>\n",
       "    </tr>\n",
       "    <tr>\n",
       "      <th>3</th>\n",
       "      <td>1</td>\n",
       "      <td>0.00</td>\n",
       "      <td>1</td>\n",
       "      <td>0.00</td>\n",
       "      <td>0</td>\n",
       "      <td>82</td>\n",
       "      <td>0</td>\n",
       "      <td>0</td>\n",
       "      <td>679</td>\n",
       "      <td>414</td>\n",
       "      <td>651</td>\n",
       "      <td>0</td>\n",
       "    </tr>\n",
       "    <tr>\n",
       "      <th>4</th>\n",
       "      <td>1</td>\n",
       "      <td>0.00</td>\n",
       "      <td>2</td>\n",
       "      <td>0.00</td>\n",
       "      <td>0</td>\n",
       "      <td>0</td>\n",
       "      <td>0</td>\n",
       "      <td>1</td>\n",
       "      <td>6</td>\n",
       "      <td>151</td>\n",
       "      <td>126</td>\n",
       "      <td>0</td>\n",
       "    </tr>\n",
       "    <tr>\n",
       "      <th>...</th>\n",
       "      <td>...</td>\n",
       "      <td>...</td>\n",
       "      <td>...</td>\n",
       "      <td>...</td>\n",
       "      <td>...</td>\n",
       "      <td>...</td>\n",
       "      <td>...</td>\n",
       "      <td>...</td>\n",
       "      <td>...</td>\n",
       "      <td>...</td>\n",
       "      <td>...</td>\n",
       "      <td>...</td>\n",
       "    </tr>\n",
       "    <tr>\n",
       "      <th>571</th>\n",
       "      <td>1</td>\n",
       "      <td>0.55</td>\n",
       "      <td>1</td>\n",
       "      <td>0.44</td>\n",
       "      <td>0</td>\n",
       "      <td>0</td>\n",
       "      <td>0</td>\n",
       "      <td>0</td>\n",
       "      <td>33</td>\n",
       "      <td>166</td>\n",
       "      <td>596</td>\n",
       "      <td>1</td>\n",
       "    </tr>\n",
       "    <tr>\n",
       "      <th>572</th>\n",
       "      <td>1</td>\n",
       "      <td>0.38</td>\n",
       "      <td>1</td>\n",
       "      <td>0.33</td>\n",
       "      <td>0</td>\n",
       "      <td>21</td>\n",
       "      <td>0</td>\n",
       "      <td>0</td>\n",
       "      <td>44</td>\n",
       "      <td>66</td>\n",
       "      <td>75</td>\n",
       "      <td>1</td>\n",
       "    </tr>\n",
       "    <tr>\n",
       "      <th>573</th>\n",
       "      <td>1</td>\n",
       "      <td>0.57</td>\n",
       "      <td>2</td>\n",
       "      <td>0.00</td>\n",
       "      <td>0</td>\n",
       "      <td>0</td>\n",
       "      <td>0</td>\n",
       "      <td>0</td>\n",
       "      <td>4</td>\n",
       "      <td>96</td>\n",
       "      <td>339</td>\n",
       "      <td>1</td>\n",
       "    </tr>\n",
       "    <tr>\n",
       "      <th>574</th>\n",
       "      <td>1</td>\n",
       "      <td>0.57</td>\n",
       "      <td>1</td>\n",
       "      <td>0.00</td>\n",
       "      <td>0</td>\n",
       "      <td>11</td>\n",
       "      <td>0</td>\n",
       "      <td>0</td>\n",
       "      <td>0</td>\n",
       "      <td>57</td>\n",
       "      <td>73</td>\n",
       "      <td>1</td>\n",
       "    </tr>\n",
       "    <tr>\n",
       "      <th>575</th>\n",
       "      <td>1</td>\n",
       "      <td>0.27</td>\n",
       "      <td>1</td>\n",
       "      <td>0.00</td>\n",
       "      <td>0</td>\n",
       "      <td>0</td>\n",
       "      <td>0</td>\n",
       "      <td>0</td>\n",
       "      <td>2</td>\n",
       "      <td>150</td>\n",
       "      <td>487</td>\n",
       "      <td>1</td>\n",
       "    </tr>\n",
       "  </tbody>\n",
       "</table>\n",
       "<p>576 rows × 12 columns</p>\n",
       "</div>"
      ],
      "text/plain": [
       "     profile pic  nums/length username  fullname words  nums/length fullname  \\\n",
       "0              1                  0.27               0                  0.00   \n",
       "1              1                  0.00               2                  0.00   \n",
       "2              1                  0.10               2                  0.00   \n",
       "3              1                  0.00               1                  0.00   \n",
       "4              1                  0.00               2                  0.00   \n",
       "..           ...                   ...             ...                   ...   \n",
       "571            1                  0.55               1                  0.44   \n",
       "572            1                  0.38               1                  0.33   \n",
       "573            1                  0.57               2                  0.00   \n",
       "574            1                  0.57               1                  0.00   \n",
       "575            1                  0.27               1                  0.00   \n",
       "\n",
       "     name==username  description length  external URL  private  #posts  \\\n",
       "0                 0                  53             0        0      32   \n",
       "1                 0                  44             0        0     286   \n",
       "2                 0                   0             0        1      13   \n",
       "3                 0                  82             0        0     679   \n",
       "4                 0                   0             0        1       6   \n",
       "..              ...                 ...           ...      ...     ...   \n",
       "571               0                   0             0        0      33   \n",
       "572               0                  21             0        0      44   \n",
       "573               0                   0             0        0       4   \n",
       "574               0                  11             0        0       0   \n",
       "575               0                   0             0        0       2   \n",
       "\n",
       "     #followers  #follows  fake  \n",
       "0          1000       955     0  \n",
       "1          2740       533     0  \n",
       "2           159        98     0  \n",
       "3           414       651     0  \n",
       "4           151       126     0  \n",
       "..          ...       ...   ...  \n",
       "571         166       596     1  \n",
       "572          66        75     1  \n",
       "573          96       339     1  \n",
       "574          57        73     1  \n",
       "575         150       487     1  \n",
       "\n",
       "[576 rows x 12 columns]"
      ]
     },
     "execution_count": 5,
     "metadata": {},
     "output_type": "execute_result"
    }
   ],
   "source": [
    "# Load the training dataset\n",
    "instagram_df_train = pd.read_csv('/kaggle/input/fake-insta-profile/insta_train.csv')\n",
    "instagram_df_train"
   ]
  },
  {
   "cell_type": "code",
   "execution_count": 6,
   "id": "6c8662ba",
   "metadata": {
    "execution": {
     "iopub.execute_input": "2023-05-06T18:32:07.078530Z",
     "iopub.status.busy": "2023-05-06T18:32:07.078118Z",
     "iopub.status.idle": "2023-05-06T18:32:07.106963Z",
     "shell.execute_reply": "2023-05-06T18:32:07.105857Z"
    },
    "papermill": {
     "duration": 0.049369,
     "end_time": "2023-05-06T18:32:07.109313",
     "exception": false,
     "start_time": "2023-05-06T18:32:07.059944",
     "status": "completed"
    },
    "tags": []
   },
   "outputs": [
    {
     "data": {
      "text/html": [
       "<div>\n",
       "<style scoped>\n",
       "    .dataframe tbody tr th:only-of-type {\n",
       "        vertical-align: middle;\n",
       "    }\n",
       "\n",
       "    .dataframe tbody tr th {\n",
       "        vertical-align: top;\n",
       "    }\n",
       "\n",
       "    .dataframe thead th {\n",
       "        text-align: right;\n",
       "    }\n",
       "</style>\n",
       "<table border=\"1\" class=\"dataframe\">\n",
       "  <thead>\n",
       "    <tr style=\"text-align: right;\">\n",
       "      <th></th>\n",
       "      <th>profile pic</th>\n",
       "      <th>nums/length username</th>\n",
       "      <th>fullname words</th>\n",
       "      <th>nums/length fullname</th>\n",
       "      <th>name==username</th>\n",
       "      <th>description length</th>\n",
       "      <th>external URL</th>\n",
       "      <th>private</th>\n",
       "      <th>#posts</th>\n",
       "      <th>#followers</th>\n",
       "      <th>#follows</th>\n",
       "      <th>fake</th>\n",
       "    </tr>\n",
       "  </thead>\n",
       "  <tbody>\n",
       "    <tr>\n",
       "      <th>0</th>\n",
       "      <td>1</td>\n",
       "      <td>0.33</td>\n",
       "      <td>1</td>\n",
       "      <td>0.33</td>\n",
       "      <td>1</td>\n",
       "      <td>30</td>\n",
       "      <td>0</td>\n",
       "      <td>1</td>\n",
       "      <td>35</td>\n",
       "      <td>488</td>\n",
       "      <td>604</td>\n",
       "      <td>0</td>\n",
       "    </tr>\n",
       "    <tr>\n",
       "      <th>1</th>\n",
       "      <td>1</td>\n",
       "      <td>0.00</td>\n",
       "      <td>5</td>\n",
       "      <td>0.00</td>\n",
       "      <td>0</td>\n",
       "      <td>64</td>\n",
       "      <td>0</td>\n",
       "      <td>1</td>\n",
       "      <td>3</td>\n",
       "      <td>35</td>\n",
       "      <td>6</td>\n",
       "      <td>0</td>\n",
       "    </tr>\n",
       "    <tr>\n",
       "      <th>2</th>\n",
       "      <td>1</td>\n",
       "      <td>0.00</td>\n",
       "      <td>2</td>\n",
       "      <td>0.00</td>\n",
       "      <td>0</td>\n",
       "      <td>82</td>\n",
       "      <td>0</td>\n",
       "      <td>1</td>\n",
       "      <td>319</td>\n",
       "      <td>328</td>\n",
       "      <td>668</td>\n",
       "      <td>0</td>\n",
       "    </tr>\n",
       "    <tr>\n",
       "      <th>3</th>\n",
       "      <td>1</td>\n",
       "      <td>0.00</td>\n",
       "      <td>1</td>\n",
       "      <td>0.00</td>\n",
       "      <td>0</td>\n",
       "      <td>143</td>\n",
       "      <td>0</td>\n",
       "      <td>1</td>\n",
       "      <td>273</td>\n",
       "      <td>14890</td>\n",
       "      <td>7369</td>\n",
       "      <td>0</td>\n",
       "    </tr>\n",
       "    <tr>\n",
       "      <th>4</th>\n",
       "      <td>1</td>\n",
       "      <td>0.50</td>\n",
       "      <td>1</td>\n",
       "      <td>0.00</td>\n",
       "      <td>0</td>\n",
       "      <td>76</td>\n",
       "      <td>0</td>\n",
       "      <td>1</td>\n",
       "      <td>6</td>\n",
       "      <td>225</td>\n",
       "      <td>356</td>\n",
       "      <td>0</td>\n",
       "    </tr>\n",
       "    <tr>\n",
       "      <th>...</th>\n",
       "      <td>...</td>\n",
       "      <td>...</td>\n",
       "      <td>...</td>\n",
       "      <td>...</td>\n",
       "      <td>...</td>\n",
       "      <td>...</td>\n",
       "      <td>...</td>\n",
       "      <td>...</td>\n",
       "      <td>...</td>\n",
       "      <td>...</td>\n",
       "      <td>...</td>\n",
       "      <td>...</td>\n",
       "    </tr>\n",
       "    <tr>\n",
       "      <th>115</th>\n",
       "      <td>1</td>\n",
       "      <td>0.29</td>\n",
       "      <td>1</td>\n",
       "      <td>0.00</td>\n",
       "      <td>0</td>\n",
       "      <td>0</td>\n",
       "      <td>0</td>\n",
       "      <td>0</td>\n",
       "      <td>13</td>\n",
       "      <td>114</td>\n",
       "      <td>811</td>\n",
       "      <td>1</td>\n",
       "    </tr>\n",
       "    <tr>\n",
       "      <th>116</th>\n",
       "      <td>1</td>\n",
       "      <td>0.40</td>\n",
       "      <td>1</td>\n",
       "      <td>0.00</td>\n",
       "      <td>0</td>\n",
       "      <td>0</td>\n",
       "      <td>0</td>\n",
       "      <td>0</td>\n",
       "      <td>4</td>\n",
       "      <td>150</td>\n",
       "      <td>164</td>\n",
       "      <td>1</td>\n",
       "    </tr>\n",
       "    <tr>\n",
       "      <th>117</th>\n",
       "      <td>1</td>\n",
       "      <td>0.00</td>\n",
       "      <td>2</td>\n",
       "      <td>0.00</td>\n",
       "      <td>0</td>\n",
       "      <td>0</td>\n",
       "      <td>0</td>\n",
       "      <td>0</td>\n",
       "      <td>3</td>\n",
       "      <td>833</td>\n",
       "      <td>3572</td>\n",
       "      <td>1</td>\n",
       "    </tr>\n",
       "    <tr>\n",
       "      <th>118</th>\n",
       "      <td>0</td>\n",
       "      <td>0.17</td>\n",
       "      <td>1</td>\n",
       "      <td>0.00</td>\n",
       "      <td>0</td>\n",
       "      <td>0</td>\n",
       "      <td>0</td>\n",
       "      <td>0</td>\n",
       "      <td>1</td>\n",
       "      <td>219</td>\n",
       "      <td>1695</td>\n",
       "      <td>1</td>\n",
       "    </tr>\n",
       "    <tr>\n",
       "      <th>119</th>\n",
       "      <td>1</td>\n",
       "      <td>0.44</td>\n",
       "      <td>1</td>\n",
       "      <td>0.00</td>\n",
       "      <td>0</td>\n",
       "      <td>0</td>\n",
       "      <td>0</td>\n",
       "      <td>0</td>\n",
       "      <td>3</td>\n",
       "      <td>39</td>\n",
       "      <td>68</td>\n",
       "      <td>1</td>\n",
       "    </tr>\n",
       "  </tbody>\n",
       "</table>\n",
       "<p>120 rows × 12 columns</p>\n",
       "</div>"
      ],
      "text/plain": [
       "     profile pic  nums/length username  fullname words  nums/length fullname  \\\n",
       "0              1                  0.33               1                  0.33   \n",
       "1              1                  0.00               5                  0.00   \n",
       "2              1                  0.00               2                  0.00   \n",
       "3              1                  0.00               1                  0.00   \n",
       "4              1                  0.50               1                  0.00   \n",
       "..           ...                   ...             ...                   ...   \n",
       "115            1                  0.29               1                  0.00   \n",
       "116            1                  0.40               1                  0.00   \n",
       "117            1                  0.00               2                  0.00   \n",
       "118            0                  0.17               1                  0.00   \n",
       "119            1                  0.44               1                  0.00   \n",
       "\n",
       "     name==username  description length  external URL  private  #posts  \\\n",
       "0                 1                  30             0        1      35   \n",
       "1                 0                  64             0        1       3   \n",
       "2                 0                  82             0        1     319   \n",
       "3                 0                 143             0        1     273   \n",
       "4                 0                  76             0        1       6   \n",
       "..              ...                 ...           ...      ...     ...   \n",
       "115               0                   0             0        0      13   \n",
       "116               0                   0             0        0       4   \n",
       "117               0                   0             0        0       3   \n",
       "118               0                   0             0        0       1   \n",
       "119               0                   0             0        0       3   \n",
       "\n",
       "     #followers  #follows  fake  \n",
       "0           488       604     0  \n",
       "1            35         6     0  \n",
       "2           328       668     0  \n",
       "3         14890      7369     0  \n",
       "4           225       356     0  \n",
       "..          ...       ...   ...  \n",
       "115         114       811     1  \n",
       "116         150       164     1  \n",
       "117         833      3572     1  \n",
       "118         219      1695     1  \n",
       "119          39        68     1  \n",
       "\n",
       "[120 rows x 12 columns]"
      ]
     },
     "execution_count": 6,
     "metadata": {},
     "output_type": "execute_result"
    }
   ],
   "source": [
    "# Load the testing data\n",
    "instagram_df_test = pd.read_csv('/kaggle/input/fake-insta-profile/insta_test.csv')\n",
    "instagram_df_test "
   ]
  },
  {
   "cell_type": "markdown",
   "id": "92940362",
   "metadata": {
    "id": "ZSNFJsCm5hKM",
    "papermill": {
     "duration": 0.017312,
     "end_time": "2023-05-06T18:32:07.144191",
     "exception": false,
     "start_time": "2023-05-06T18:32:07.126879",
     "status": "completed"
    },
    "tags": []
   },
   "source": [
    "MINI CHALLENGE #1:\n",
    "- Print the first and last 5 rows in both the training and testing DataFrames\n"
   ]
  },
  {
   "cell_type": "code",
   "execution_count": 7,
   "id": "0776966a",
   "metadata": {
    "execution": {
     "iopub.execute_input": "2023-05-06T18:32:07.181650Z",
     "iopub.status.busy": "2023-05-06T18:32:07.181236Z",
     "iopub.status.idle": "2023-05-06T18:32:07.186222Z",
     "shell.execute_reply": "2023-05-06T18:32:07.184814Z"
    },
    "papermill": {
     "duration": 0.026408,
     "end_time": "2023-05-06T18:32:07.188484",
     "exception": false,
     "start_time": "2023-05-06T18:32:07.162076",
     "status": "completed"
    },
    "tags": []
   },
   "outputs": [],
   "source": [
    "# instagram_df_test\n",
    "# instagram_df_train"
   ]
  },
  {
   "cell_type": "markdown",
   "id": "3c8f28b6",
   "metadata": {
    "id": "-nFC4pHcGr57",
    "papermill": {
     "duration": 0.017025,
     "end_time": "2023-05-06T18:32:07.222507",
     "exception": false,
     "start_time": "2023-05-06T18:32:07.205482",
     "status": "completed"
    },
    "tags": []
   },
   "source": [
    "# TASK #3: PERFORM EXPLORATORY DATA ANALYSIS"
   ]
  },
  {
   "cell_type": "code",
   "execution_count": 8,
   "id": "0e9135b4",
   "metadata": {
    "execution": {
     "iopub.execute_input": "2023-05-06T18:32:07.259336Z",
     "iopub.status.busy": "2023-05-06T18:32:07.258930Z",
     "iopub.status.idle": "2023-05-06T18:32:07.283163Z",
     "shell.execute_reply": "2023-05-06T18:32:07.282132Z"
    },
    "id": "Z4nClRot5F4y",
    "outputId": "a1997300-df5a-4ee9-d6e8-2815434af1cc",
    "papermill": {
     "duration": 0.045929,
     "end_time": "2023-05-06T18:32:07.285482",
     "exception": false,
     "start_time": "2023-05-06T18:32:07.239553",
     "status": "completed"
    },
    "tags": []
   },
   "outputs": [
    {
     "name": "stdout",
     "output_type": "stream",
     "text": [
      "<class 'pandas.core.frame.DataFrame'>\n",
      "RangeIndex: 576 entries, 0 to 575\n",
      "Data columns (total 12 columns):\n",
      " #   Column                Non-Null Count  Dtype  \n",
      "---  ------                --------------  -----  \n",
      " 0   profile pic           576 non-null    int64  \n",
      " 1   nums/length username  576 non-null    float64\n",
      " 2   fullname words        576 non-null    int64  \n",
      " 3   nums/length fullname  576 non-null    float64\n",
      " 4   name==username        576 non-null    int64  \n",
      " 5   description length    576 non-null    int64  \n",
      " 6   external URL          576 non-null    int64  \n",
      " 7   private               576 non-null    int64  \n",
      " 8   #posts                576 non-null    int64  \n",
      " 9   #followers            576 non-null    int64  \n",
      " 10  #follows              576 non-null    int64  \n",
      " 11  fake                  576 non-null    int64  \n",
      "dtypes: float64(2), int64(10)\n",
      "memory usage: 54.1 KB\n"
     ]
    }
   ],
   "source": [
    "# Getting dataframe info\n",
    "instagram_df_train.info()"
   ]
  },
  {
   "cell_type": "code",
   "execution_count": 9,
   "id": "ad75f526",
   "metadata": {
    "execution": {
     "iopub.execute_input": "2023-05-06T18:32:07.323405Z",
     "iopub.status.busy": "2023-05-06T18:32:07.322689Z",
     "iopub.status.idle": "2023-05-06T18:32:07.369245Z",
     "shell.execute_reply": "2023-05-06T18:32:07.367572Z"
    },
    "id": "rdAGa23clK4Y",
    "outputId": "a2bce35e-1f6e-4265-b9d0-6dc8673e5709",
    "papermill": {
     "duration": 0.068385,
     "end_time": "2023-05-06T18:32:07.371664",
     "exception": false,
     "start_time": "2023-05-06T18:32:07.303279",
     "status": "completed"
    },
    "tags": []
   },
   "outputs": [
    {
     "data": {
      "text/html": [
       "<div>\n",
       "<style scoped>\n",
       "    .dataframe tbody tr th:only-of-type {\n",
       "        vertical-align: middle;\n",
       "    }\n",
       "\n",
       "    .dataframe tbody tr th {\n",
       "        vertical-align: top;\n",
       "    }\n",
       "\n",
       "    .dataframe thead th {\n",
       "        text-align: right;\n",
       "    }\n",
       "</style>\n",
       "<table border=\"1\" class=\"dataframe\">\n",
       "  <thead>\n",
       "    <tr style=\"text-align: right;\">\n",
       "      <th></th>\n",
       "      <th>profile pic</th>\n",
       "      <th>nums/length username</th>\n",
       "      <th>fullname words</th>\n",
       "      <th>nums/length fullname</th>\n",
       "      <th>name==username</th>\n",
       "      <th>description length</th>\n",
       "      <th>external URL</th>\n",
       "      <th>private</th>\n",
       "      <th>#posts</th>\n",
       "      <th>#followers</th>\n",
       "      <th>#follows</th>\n",
       "      <th>fake</th>\n",
       "    </tr>\n",
       "  </thead>\n",
       "  <tbody>\n",
       "    <tr>\n",
       "      <th>count</th>\n",
       "      <td>576.000000</td>\n",
       "      <td>576.000000</td>\n",
       "      <td>576.000000</td>\n",
       "      <td>576.000000</td>\n",
       "      <td>576.000000</td>\n",
       "      <td>576.000000</td>\n",
       "      <td>576.000000</td>\n",
       "      <td>576.000000</td>\n",
       "      <td>576.000000</td>\n",
       "      <td>5.760000e+02</td>\n",
       "      <td>576.000000</td>\n",
       "      <td>576.000000</td>\n",
       "    </tr>\n",
       "    <tr>\n",
       "      <th>mean</th>\n",
       "      <td>0.701389</td>\n",
       "      <td>0.163837</td>\n",
       "      <td>1.460069</td>\n",
       "      <td>0.036094</td>\n",
       "      <td>0.034722</td>\n",
       "      <td>22.623264</td>\n",
       "      <td>0.116319</td>\n",
       "      <td>0.381944</td>\n",
       "      <td>107.489583</td>\n",
       "      <td>8.530724e+04</td>\n",
       "      <td>508.381944</td>\n",
       "      <td>0.500000</td>\n",
       "    </tr>\n",
       "    <tr>\n",
       "      <th>std</th>\n",
       "      <td>0.458047</td>\n",
       "      <td>0.214096</td>\n",
       "      <td>1.052601</td>\n",
       "      <td>0.125121</td>\n",
       "      <td>0.183234</td>\n",
       "      <td>37.702987</td>\n",
       "      <td>0.320886</td>\n",
       "      <td>0.486285</td>\n",
       "      <td>402.034431</td>\n",
       "      <td>9.101485e+05</td>\n",
       "      <td>917.981239</td>\n",
       "      <td>0.500435</td>\n",
       "    </tr>\n",
       "    <tr>\n",
       "      <th>min</th>\n",
       "      <td>0.000000</td>\n",
       "      <td>0.000000</td>\n",
       "      <td>0.000000</td>\n",
       "      <td>0.000000</td>\n",
       "      <td>0.000000</td>\n",
       "      <td>0.000000</td>\n",
       "      <td>0.000000</td>\n",
       "      <td>0.000000</td>\n",
       "      <td>0.000000</td>\n",
       "      <td>0.000000e+00</td>\n",
       "      <td>0.000000</td>\n",
       "      <td>0.000000</td>\n",
       "    </tr>\n",
       "    <tr>\n",
       "      <th>25%</th>\n",
       "      <td>0.000000</td>\n",
       "      <td>0.000000</td>\n",
       "      <td>1.000000</td>\n",
       "      <td>0.000000</td>\n",
       "      <td>0.000000</td>\n",
       "      <td>0.000000</td>\n",
       "      <td>0.000000</td>\n",
       "      <td>0.000000</td>\n",
       "      <td>0.000000</td>\n",
       "      <td>3.900000e+01</td>\n",
       "      <td>57.500000</td>\n",
       "      <td>0.000000</td>\n",
       "    </tr>\n",
       "    <tr>\n",
       "      <th>50%</th>\n",
       "      <td>1.000000</td>\n",
       "      <td>0.000000</td>\n",
       "      <td>1.000000</td>\n",
       "      <td>0.000000</td>\n",
       "      <td>0.000000</td>\n",
       "      <td>0.000000</td>\n",
       "      <td>0.000000</td>\n",
       "      <td>0.000000</td>\n",
       "      <td>9.000000</td>\n",
       "      <td>1.505000e+02</td>\n",
       "      <td>229.500000</td>\n",
       "      <td>0.500000</td>\n",
       "    </tr>\n",
       "    <tr>\n",
       "      <th>75%</th>\n",
       "      <td>1.000000</td>\n",
       "      <td>0.310000</td>\n",
       "      <td>2.000000</td>\n",
       "      <td>0.000000</td>\n",
       "      <td>0.000000</td>\n",
       "      <td>34.000000</td>\n",
       "      <td>0.000000</td>\n",
       "      <td>1.000000</td>\n",
       "      <td>81.500000</td>\n",
       "      <td>7.160000e+02</td>\n",
       "      <td>589.500000</td>\n",
       "      <td>1.000000</td>\n",
       "    </tr>\n",
       "    <tr>\n",
       "      <th>max</th>\n",
       "      <td>1.000000</td>\n",
       "      <td>0.920000</td>\n",
       "      <td>12.000000</td>\n",
       "      <td>1.000000</td>\n",
       "      <td>1.000000</td>\n",
       "      <td>150.000000</td>\n",
       "      <td>1.000000</td>\n",
       "      <td>1.000000</td>\n",
       "      <td>7389.000000</td>\n",
       "      <td>1.533854e+07</td>\n",
       "      <td>7500.000000</td>\n",
       "      <td>1.000000</td>\n",
       "    </tr>\n",
       "  </tbody>\n",
       "</table>\n",
       "</div>"
      ],
      "text/plain": [
       "       profile pic  nums/length username  fullname words  \\\n",
       "count   576.000000            576.000000      576.000000   \n",
       "mean      0.701389              0.163837        1.460069   \n",
       "std       0.458047              0.214096        1.052601   \n",
       "min       0.000000              0.000000        0.000000   \n",
       "25%       0.000000              0.000000        1.000000   \n",
       "50%       1.000000              0.000000        1.000000   \n",
       "75%       1.000000              0.310000        2.000000   \n",
       "max       1.000000              0.920000       12.000000   \n",
       "\n",
       "       nums/length fullname  name==username  description length  external URL  \\\n",
       "count            576.000000      576.000000          576.000000    576.000000   \n",
       "mean               0.036094        0.034722           22.623264      0.116319   \n",
       "std                0.125121        0.183234           37.702987      0.320886   \n",
       "min                0.000000        0.000000            0.000000      0.000000   \n",
       "25%                0.000000        0.000000            0.000000      0.000000   \n",
       "50%                0.000000        0.000000            0.000000      0.000000   \n",
       "75%                0.000000        0.000000           34.000000      0.000000   \n",
       "max                1.000000        1.000000          150.000000      1.000000   \n",
       "\n",
       "          private       #posts    #followers     #follows        fake  \n",
       "count  576.000000   576.000000  5.760000e+02   576.000000  576.000000  \n",
       "mean     0.381944   107.489583  8.530724e+04   508.381944    0.500000  \n",
       "std      0.486285   402.034431  9.101485e+05   917.981239    0.500435  \n",
       "min      0.000000     0.000000  0.000000e+00     0.000000    0.000000  \n",
       "25%      0.000000     0.000000  3.900000e+01    57.500000    0.000000  \n",
       "50%      0.000000     9.000000  1.505000e+02   229.500000    0.500000  \n",
       "75%      1.000000    81.500000  7.160000e+02   589.500000    1.000000  \n",
       "max      1.000000  7389.000000  1.533854e+07  7500.000000    1.000000  "
      ]
     },
     "execution_count": 9,
     "metadata": {},
     "output_type": "execute_result"
    }
   ],
   "source": [
    "# Get the statistical summary of the dataframe\n",
    "instagram_df_train.describe()"
   ]
  },
  {
   "cell_type": "code",
   "execution_count": 10,
   "id": "55f59b81",
   "metadata": {
    "execution": {
     "iopub.execute_input": "2023-05-06T18:32:07.408959Z",
     "iopub.status.busy": "2023-05-06T18:32:07.408210Z",
     "iopub.status.idle": "2023-05-06T18:32:07.415662Z",
     "shell.execute_reply": "2023-05-06T18:32:07.414807Z"
    },
    "id": "NkMQnKIZ099u",
    "outputId": "bbd8ee1b-540c-4982-a6c0-da9cbbd0465c",
    "papermill": {
     "duration": 0.028191,
     "end_time": "2023-05-06T18:32:07.417590",
     "exception": false,
     "start_time": "2023-05-06T18:32:07.389399",
     "status": "completed"
    },
    "tags": []
   },
   "outputs": [
    {
     "data": {
      "text/plain": [
       "profile pic             0\n",
       "nums/length username    0\n",
       "fullname words          0\n",
       "nums/length fullname    0\n",
       "name==username          0\n",
       "description length      0\n",
       "external URL            0\n",
       "private                 0\n",
       "#posts                  0\n",
       "#followers              0\n",
       "#follows                0\n",
       "fake                    0\n",
       "dtype: int64"
      ]
     },
     "execution_count": 10,
     "metadata": {},
     "output_type": "execute_result"
    }
   ],
   "source": [
    "# Checking if null values exist\n",
    "instagram_df_train.isnull().sum()"
   ]
  },
  {
   "cell_type": "code",
   "execution_count": 11,
   "id": "ead2d964",
   "metadata": {
    "execution": {
     "iopub.execute_input": "2023-05-06T18:32:07.454497Z",
     "iopub.status.busy": "2023-05-06T18:32:07.453858Z",
     "iopub.status.idle": "2023-05-06T18:32:07.461440Z",
     "shell.execute_reply": "2023-05-06T18:32:07.460373Z"
    },
    "papermill": {
     "duration": 0.028271,
     "end_time": "2023-05-06T18:32:07.463444",
     "exception": false,
     "start_time": "2023-05-06T18:32:07.435173",
     "status": "completed"
    },
    "tags": []
   },
   "outputs": [
    {
     "data": {
      "text/plain": [
       "1    404\n",
       "0    172\n",
       "Name: profile pic, dtype: int64"
      ]
     },
     "execution_count": 11,
     "metadata": {},
     "output_type": "execute_result"
    }
   ],
   "source": [
    "# Get the number of unique values in the \"profile pic\" feature\n",
    "instagram_df_train['profile pic'].value_counts()"
   ]
  },
  {
   "cell_type": "code",
   "execution_count": 12,
   "id": "a05ac33c",
   "metadata": {
    "execution": {
     "iopub.execute_input": "2023-05-06T18:32:07.501299Z",
     "iopub.status.busy": "2023-05-06T18:32:07.500708Z",
     "iopub.status.idle": "2023-05-06T18:32:07.507679Z",
     "shell.execute_reply": "2023-05-06T18:32:07.506784Z"
    },
    "papermill": {
     "duration": 0.028482,
     "end_time": "2023-05-06T18:32:07.509661",
     "exception": false,
     "start_time": "2023-05-06T18:32:07.481179",
     "status": "completed"
    },
    "tags": []
   },
   "outputs": [
    {
     "data": {
      "text/plain": [
       "0    288\n",
       "1    288\n",
       "Name: fake, dtype: int64"
      ]
     },
     "execution_count": 12,
     "metadata": {},
     "output_type": "execute_result"
    }
   ],
   "source": [
    "# Get the number of unique values in \"fake\" (Target column)\n",
    "instagram_df_train['fake'].value_counts()"
   ]
  },
  {
   "cell_type": "markdown",
   "id": "26d7bd6f",
   "metadata": {
    "id": "QIc6S-ek6Fao",
    "papermill": {
     "duration": 0.017667,
     "end_time": "2023-05-06T18:32:07.545192",
     "exception": false,
     "start_time": "2023-05-06T18:32:07.527525",
     "status": "completed"
    },
    "tags": []
   },
   "source": [
    "MINI CHALLENGE #2:\n",
    "- Perform exploratory data analysis on the testing dataset"
   ]
  },
  {
   "cell_type": "code",
   "execution_count": 13,
   "id": "941632cb",
   "metadata": {
    "execution": {
     "iopub.execute_input": "2023-05-06T18:32:07.582927Z",
     "iopub.status.busy": "2023-05-06T18:32:07.582521Z",
     "iopub.status.idle": "2023-05-06T18:32:07.595137Z",
     "shell.execute_reply": "2023-05-06T18:32:07.593587Z"
    },
    "papermill": {
     "duration": 0.034711,
     "end_time": "2023-05-06T18:32:07.597462",
     "exception": false,
     "start_time": "2023-05-06T18:32:07.562751",
     "status": "completed"
    },
    "tags": []
   },
   "outputs": [
    {
     "name": "stdout",
     "output_type": "stream",
     "text": [
      "<class 'pandas.core.frame.DataFrame'>\n",
      "RangeIndex: 120 entries, 0 to 119\n",
      "Data columns (total 12 columns):\n",
      " #   Column                Non-Null Count  Dtype  \n",
      "---  ------                --------------  -----  \n",
      " 0   profile pic           120 non-null    int64  \n",
      " 1   nums/length username  120 non-null    float64\n",
      " 2   fullname words        120 non-null    int64  \n",
      " 3   nums/length fullname  120 non-null    float64\n",
      " 4   name==username        120 non-null    int64  \n",
      " 5   description length    120 non-null    int64  \n",
      " 6   external URL          120 non-null    int64  \n",
      " 7   private               120 non-null    int64  \n",
      " 8   #posts                120 non-null    int64  \n",
      " 9   #followers            120 non-null    int64  \n",
      " 10  #follows              120 non-null    int64  \n",
      " 11  fake                  120 non-null    int64  \n",
      "dtypes: float64(2), int64(10)\n",
      "memory usage: 11.4 KB\n"
     ]
    }
   ],
   "source": [
    "instagram_df_test.info()"
   ]
  },
  {
   "cell_type": "code",
   "execution_count": 14,
   "id": "06d2bcf8",
   "metadata": {
    "execution": {
     "iopub.execute_input": "2023-05-06T18:32:07.635263Z",
     "iopub.status.busy": "2023-05-06T18:32:07.634868Z",
     "iopub.status.idle": "2023-05-06T18:32:07.678771Z",
     "shell.execute_reply": "2023-05-06T18:32:07.677389Z"
    },
    "papermill": {
     "duration": 0.065911,
     "end_time": "2023-05-06T18:32:07.681599",
     "exception": false,
     "start_time": "2023-05-06T18:32:07.615688",
     "status": "completed"
    },
    "tags": []
   },
   "outputs": [
    {
     "data": {
      "text/html": [
       "<div>\n",
       "<style scoped>\n",
       "    .dataframe tbody tr th:only-of-type {\n",
       "        vertical-align: middle;\n",
       "    }\n",
       "\n",
       "    .dataframe tbody tr th {\n",
       "        vertical-align: top;\n",
       "    }\n",
       "\n",
       "    .dataframe thead th {\n",
       "        text-align: right;\n",
       "    }\n",
       "</style>\n",
       "<table border=\"1\" class=\"dataframe\">\n",
       "  <thead>\n",
       "    <tr style=\"text-align: right;\">\n",
       "      <th></th>\n",
       "      <th>profile pic</th>\n",
       "      <th>nums/length username</th>\n",
       "      <th>fullname words</th>\n",
       "      <th>nums/length fullname</th>\n",
       "      <th>name==username</th>\n",
       "      <th>description length</th>\n",
       "      <th>external URL</th>\n",
       "      <th>private</th>\n",
       "      <th>#posts</th>\n",
       "      <th>#followers</th>\n",
       "      <th>#follows</th>\n",
       "      <th>fake</th>\n",
       "    </tr>\n",
       "  </thead>\n",
       "  <tbody>\n",
       "    <tr>\n",
       "      <th>count</th>\n",
       "      <td>120.000000</td>\n",
       "      <td>120.000000</td>\n",
       "      <td>120.000000</td>\n",
       "      <td>120.000000</td>\n",
       "      <td>120.000000</td>\n",
       "      <td>120.000000</td>\n",
       "      <td>120.000000</td>\n",
       "      <td>120.000000</td>\n",
       "      <td>120.000000</td>\n",
       "      <td>1.200000e+02</td>\n",
       "      <td>120.000000</td>\n",
       "      <td>120.000000</td>\n",
       "    </tr>\n",
       "    <tr>\n",
       "      <th>mean</th>\n",
       "      <td>0.758333</td>\n",
       "      <td>0.179917</td>\n",
       "      <td>1.550000</td>\n",
       "      <td>0.071333</td>\n",
       "      <td>0.041667</td>\n",
       "      <td>27.200000</td>\n",
       "      <td>0.100000</td>\n",
       "      <td>0.308333</td>\n",
       "      <td>82.866667</td>\n",
       "      <td>4.959472e+04</td>\n",
       "      <td>779.266667</td>\n",
       "      <td>0.500000</td>\n",
       "    </tr>\n",
       "    <tr>\n",
       "      <th>std</th>\n",
       "      <td>0.429888</td>\n",
       "      <td>0.241492</td>\n",
       "      <td>1.187116</td>\n",
       "      <td>0.209429</td>\n",
       "      <td>0.200664</td>\n",
       "      <td>42.588632</td>\n",
       "      <td>0.301258</td>\n",
       "      <td>0.463741</td>\n",
       "      <td>230.468136</td>\n",
       "      <td>3.816126e+05</td>\n",
       "      <td>1409.383558</td>\n",
       "      <td>0.502096</td>\n",
       "    </tr>\n",
       "    <tr>\n",
       "      <th>min</th>\n",
       "      <td>0.000000</td>\n",
       "      <td>0.000000</td>\n",
       "      <td>0.000000</td>\n",
       "      <td>0.000000</td>\n",
       "      <td>0.000000</td>\n",
       "      <td>0.000000</td>\n",
       "      <td>0.000000</td>\n",
       "      <td>0.000000</td>\n",
       "      <td>0.000000</td>\n",
       "      <td>0.000000e+00</td>\n",
       "      <td>1.000000</td>\n",
       "      <td>0.000000</td>\n",
       "    </tr>\n",
       "    <tr>\n",
       "      <th>25%</th>\n",
       "      <td>1.000000</td>\n",
       "      <td>0.000000</td>\n",
       "      <td>1.000000</td>\n",
       "      <td>0.000000</td>\n",
       "      <td>0.000000</td>\n",
       "      <td>0.000000</td>\n",
       "      <td>0.000000</td>\n",
       "      <td>0.000000</td>\n",
       "      <td>1.000000</td>\n",
       "      <td>6.725000e+01</td>\n",
       "      <td>119.250000</td>\n",
       "      <td>0.000000</td>\n",
       "    </tr>\n",
       "    <tr>\n",
       "      <th>50%</th>\n",
       "      <td>1.000000</td>\n",
       "      <td>0.000000</td>\n",
       "      <td>1.000000</td>\n",
       "      <td>0.000000</td>\n",
       "      <td>0.000000</td>\n",
       "      <td>0.000000</td>\n",
       "      <td>0.000000</td>\n",
       "      <td>0.000000</td>\n",
       "      <td>8.000000</td>\n",
       "      <td>2.165000e+02</td>\n",
       "      <td>354.500000</td>\n",
       "      <td>0.500000</td>\n",
       "    </tr>\n",
       "    <tr>\n",
       "      <th>75%</th>\n",
       "      <td>1.000000</td>\n",
       "      <td>0.330000</td>\n",
       "      <td>2.000000</td>\n",
       "      <td>0.000000</td>\n",
       "      <td>0.000000</td>\n",
       "      <td>45.250000</td>\n",
       "      <td>0.000000</td>\n",
       "      <td>1.000000</td>\n",
       "      <td>58.250000</td>\n",
       "      <td>5.932500e+02</td>\n",
       "      <td>668.250000</td>\n",
       "      <td>1.000000</td>\n",
       "    </tr>\n",
       "    <tr>\n",
       "      <th>max</th>\n",
       "      <td>1.000000</td>\n",
       "      <td>0.890000</td>\n",
       "      <td>9.000000</td>\n",
       "      <td>1.000000</td>\n",
       "      <td>1.000000</td>\n",
       "      <td>149.000000</td>\n",
       "      <td>1.000000</td>\n",
       "      <td>1.000000</td>\n",
       "      <td>1879.000000</td>\n",
       "      <td>4.021842e+06</td>\n",
       "      <td>7453.000000</td>\n",
       "      <td>1.000000</td>\n",
       "    </tr>\n",
       "  </tbody>\n",
       "</table>\n",
       "</div>"
      ],
      "text/plain": [
       "       profile pic  nums/length username  fullname words  \\\n",
       "count   120.000000            120.000000      120.000000   \n",
       "mean      0.758333              0.179917        1.550000   \n",
       "std       0.429888              0.241492        1.187116   \n",
       "min       0.000000              0.000000        0.000000   \n",
       "25%       1.000000              0.000000        1.000000   \n",
       "50%       1.000000              0.000000        1.000000   \n",
       "75%       1.000000              0.330000        2.000000   \n",
       "max       1.000000              0.890000        9.000000   \n",
       "\n",
       "       nums/length fullname  name==username  description length  external URL  \\\n",
       "count            120.000000      120.000000          120.000000    120.000000   \n",
       "mean               0.071333        0.041667           27.200000      0.100000   \n",
       "std                0.209429        0.200664           42.588632      0.301258   \n",
       "min                0.000000        0.000000            0.000000      0.000000   \n",
       "25%                0.000000        0.000000            0.000000      0.000000   \n",
       "50%                0.000000        0.000000            0.000000      0.000000   \n",
       "75%                0.000000        0.000000           45.250000      0.000000   \n",
       "max                1.000000        1.000000          149.000000      1.000000   \n",
       "\n",
       "          private       #posts    #followers     #follows        fake  \n",
       "count  120.000000   120.000000  1.200000e+02   120.000000  120.000000  \n",
       "mean     0.308333    82.866667  4.959472e+04   779.266667    0.500000  \n",
       "std      0.463741   230.468136  3.816126e+05  1409.383558    0.502096  \n",
       "min      0.000000     0.000000  0.000000e+00     1.000000    0.000000  \n",
       "25%      0.000000     1.000000  6.725000e+01   119.250000    0.000000  \n",
       "50%      0.000000     8.000000  2.165000e+02   354.500000    0.500000  \n",
       "75%      1.000000    58.250000  5.932500e+02   668.250000    1.000000  \n",
       "max      1.000000  1879.000000  4.021842e+06  7453.000000    1.000000  "
      ]
     },
     "execution_count": 14,
     "metadata": {},
     "output_type": "execute_result"
    }
   ],
   "source": [
    "instagram_df_test.describe()"
   ]
  },
  {
   "cell_type": "code",
   "execution_count": 15,
   "id": "57d77d79",
   "metadata": {
    "execution": {
     "iopub.execute_input": "2023-05-06T18:32:07.732391Z",
     "iopub.status.busy": "2023-05-06T18:32:07.731133Z",
     "iopub.status.idle": "2023-05-06T18:32:07.741621Z",
     "shell.execute_reply": "2023-05-06T18:32:07.740697Z"
    },
    "papermill": {
     "duration": 0.037765,
     "end_time": "2023-05-06T18:32:07.744197",
     "exception": false,
     "start_time": "2023-05-06T18:32:07.706432",
     "status": "completed"
    },
    "tags": []
   },
   "outputs": [
    {
     "data": {
      "text/plain": [
       "profile pic             0\n",
       "nums/length username    0\n",
       "fullname words          0\n",
       "nums/length fullname    0\n",
       "name==username          0\n",
       "description length      0\n",
       "external URL            0\n",
       "private                 0\n",
       "#posts                  0\n",
       "#followers              0\n",
       "#follows                0\n",
       "fake                    0\n",
       "dtype: int64"
      ]
     },
     "execution_count": 15,
     "metadata": {},
     "output_type": "execute_result"
    }
   ],
   "source": [
    "instagram_df_test.isnull().sum()"
   ]
  },
  {
   "cell_type": "code",
   "execution_count": 16,
   "id": "b93451e3",
   "metadata": {
    "execution": {
     "iopub.execute_input": "2023-05-06T18:32:07.790935Z",
     "iopub.status.busy": "2023-05-06T18:32:07.790523Z",
     "iopub.status.idle": "2023-05-06T18:32:07.798582Z",
     "shell.execute_reply": "2023-05-06T18:32:07.797268Z"
    },
    "papermill": {
     "duration": 0.03103,
     "end_time": "2023-05-06T18:32:07.800951",
     "exception": false,
     "start_time": "2023-05-06T18:32:07.769921",
     "status": "completed"
    },
    "tags": []
   },
   "outputs": [
    {
     "data": {
      "text/plain": [
       "1    91\n",
       "0    29\n",
       "Name: profile pic, dtype: int64"
      ]
     },
     "execution_count": 16,
     "metadata": {},
     "output_type": "execute_result"
    }
   ],
   "source": [
    "instagram_df_test['profile pic'].value_counts()"
   ]
  },
  {
   "cell_type": "code",
   "execution_count": 17,
   "id": "0a93ddf9",
   "metadata": {
    "execution": {
     "iopub.execute_input": "2023-05-06T18:32:07.839231Z",
     "iopub.status.busy": "2023-05-06T18:32:07.838860Z",
     "iopub.status.idle": "2023-05-06T18:32:07.845996Z",
     "shell.execute_reply": "2023-05-06T18:32:07.845214Z"
    },
    "papermill": {
     "duration": 0.028959,
     "end_time": "2023-05-06T18:32:07.848272",
     "exception": false,
     "start_time": "2023-05-06T18:32:07.819313",
     "status": "completed"
    },
    "tags": []
   },
   "outputs": [
    {
     "data": {
      "text/plain": [
       "0    60\n",
       "1    60\n",
       "Name: fake, dtype: int64"
      ]
     },
     "execution_count": 17,
     "metadata": {},
     "output_type": "execute_result"
    }
   ],
   "source": [
    "instagram_df_test['fake'].value_counts()"
   ]
  },
  {
   "cell_type": "code",
   "execution_count": 18,
   "id": "1767972b",
   "metadata": {
    "execution": {
     "iopub.execute_input": "2023-05-06T18:32:07.887164Z",
     "iopub.status.busy": "2023-05-06T18:32:07.886500Z",
     "iopub.status.idle": "2023-05-06T18:32:07.899666Z",
     "shell.execute_reply": "2023-05-06T18:32:07.898561Z"
    },
    "papermill": {
     "duration": 0.035208,
     "end_time": "2023-05-06T18:32:07.902000",
     "exception": false,
     "start_time": "2023-05-06T18:32:07.866792",
     "status": "completed"
    },
    "tags": []
   },
   "outputs": [
    {
     "data": {
      "text/plain": [
       "profile pic  fake\n",
       "1            0       60\n",
       "             1       31\n",
       "0            1       29\n",
       "dtype: int64"
      ]
     },
     "execution_count": 18,
     "metadata": {},
     "output_type": "execute_result"
    }
   ],
   "source": [
    "# isfake accounts for profile pic\n",
    "instagram_df_test[['profile pic','fake']].value_counts()"
   ]
  },
  {
   "cell_type": "markdown",
   "id": "994f0fa9",
   "metadata": {
    "id": "VoyPWWCBJtfT",
    "papermill": {
     "duration": 0.018145,
     "end_time": "2023-05-06T18:32:07.938700",
     "exception": false,
     "start_time": "2023-05-06T18:32:07.920555",
     "status": "completed"
    },
    "tags": []
   },
   "source": [
    "# TASK #4: PERFORM DATA VISUALIZATION"
   ]
  },
  {
   "cell_type": "code",
   "execution_count": 19,
   "id": "31883e8b",
   "metadata": {
    "execution": {
     "iopub.execute_input": "2023-05-06T18:32:07.977414Z",
     "iopub.status.busy": "2023-05-06T18:32:07.977044Z",
     "iopub.status.idle": "2023-05-06T18:32:07.981144Z",
     "shell.execute_reply": "2023-05-06T18:32:07.980196Z"
    },
    "papermill": {
     "duration": 0.025909,
     "end_time": "2023-05-06T18:32:07.983146",
     "exception": false,
     "start_time": "2023-05-06T18:32:07.957237",
     "status": "completed"
    },
    "tags": []
   },
   "outputs": [],
   "source": [
    "# import plotly.express as px\n",
    "# px.bar(instagram_df_train, x='fake',orientation='v',labels='fake')"
   ]
  },
  {
   "cell_type": "code",
   "execution_count": 20,
   "id": "b2e43ed0",
   "metadata": {
    "execution": {
     "iopub.execute_input": "2023-05-06T18:32:08.021811Z",
     "iopub.status.busy": "2023-05-06T18:32:08.021367Z",
     "iopub.status.idle": "2023-05-06T18:32:08.231567Z",
     "shell.execute_reply": "2023-05-06T18:32:08.230771Z"
    },
    "id": "nF9Jx2NWFld_",
    "outputId": "c6ca8915-e1b6-4e98-faac-be0ece2f86f5",
    "papermill": {
     "duration": 0.232295,
     "end_time": "2023-05-06T18:32:08.233896",
     "exception": false,
     "start_time": "2023-05-06T18:32:08.001601",
     "status": "completed"
    },
    "tags": []
   },
   "outputs": [
    {
     "data": {
      "text/plain": [
       "<AxesSubplot: xlabel='fake', ylabel='count'>"
      ]
     },
     "execution_count": 20,
     "metadata": {},
     "output_type": "execute_result"
    },
    {
     "data": {
      "image/png": "[encoded data removed]",
      "text/plain": [
       "<Figure size 640x480 with 1 Axes>"
      ]
     },
     "metadata": {},
     "output_type": "display_data"
    }
   ],
   "source": [
    "# Visualize the data\n",
    "sns.countplot(instagram_df_train,x='fake')"
   ]
  },
  {
   "cell_type": "code",
   "execution_count": 21,
   "id": "4854e2d1",
   "metadata": {
    "execution": {
     "iopub.execute_input": "2023-05-06T18:32:08.273514Z",
     "iopub.status.busy": "2023-05-06T18:32:08.273140Z",
     "iopub.status.idle": "2023-05-06T18:32:08.458046Z",
     "shell.execute_reply": "2023-05-06T18:32:08.457005Z"
    },
    "papermill": {
     "duration": 0.207723,
     "end_time": "2023-05-06T18:32:08.460778",
     "exception": false,
     "start_time": "2023-05-06T18:32:08.253055",
     "status": "completed"
    },
    "tags": []
   },
   "outputs": [
    {
     "data": {
      "text/plain": [
       "<AxesSubplot: xlabel='private', ylabel='count'>"
      ]
     },
     "execution_count": 21,
     "metadata": {},
     "output_type": "execute_result"
    },
    {
     "data": {
      "image/png": "[encoded data removed]",
      "text/plain": [
       "<Figure size 640x480 with 1 Axes>"
      ]
     },
     "metadata": {},
     "output_type": "display_data"
    }
   ],
   "source": [
    "# Visualize the private column data\n",
    "sns.countplot(instagram_df_train,x='private')"
   ]
  },
  {
   "cell_type": "code",
   "execution_count": 22,
   "id": "e0c00d09",
   "metadata": {
    "execution": {
     "iopub.execute_input": "2023-05-06T18:32:08.502981Z",
     "iopub.status.busy": "2023-05-06T18:32:08.501862Z",
     "iopub.status.idle": "2023-05-06T18:32:08.698149Z",
     "shell.execute_reply": "2023-05-06T18:32:08.697135Z"
    },
    "papermill": {
     "duration": 0.220424,
     "end_time": "2023-05-06T18:32:08.700530",
     "exception": false,
     "start_time": "2023-05-06T18:32:08.480106",
     "status": "completed"
    },
    "tags": []
   },
   "outputs": [
    {
     "data": {
      "text/plain": [
       "<AxesSubplot: xlabel='profile pic', ylabel='count'>"
      ]
     },
     "execution_count": 22,
     "metadata": {},
     "output_type": "execute_result"
    },
    {
     "data": {
      "image/png": "[encoded data removed]",
      "text/plain": [
       "<Figure size 640x480 with 1 Axes>"
      ]
     },
     "metadata": {},
     "output_type": "display_data"
    }
   ],
   "source": [
    "# Visualize the \"profile pic\" column data\n",
    "sns.countplot(instagram_df_train,x='profile pic')"
   ]
  },
  {
   "cell_type": "code",
   "execution_count": 23,
   "id": "7d9bbd1c",
   "metadata": {
    "execution": {
     "iopub.execute_input": "2023-05-06T18:32:08.742068Z",
     "iopub.status.busy": "2023-05-06T18:32:08.741273Z",
     "iopub.status.idle": "2023-05-06T18:32:09.094344Z",
     "shell.execute_reply": "2023-05-06T18:32:09.093358Z"
    },
    "papermill": {
     "duration": 0.376144,
     "end_time": "2023-05-06T18:32:09.096367",
     "exception": false,
     "start_time": "2023-05-06T18:32:08.720223",
     "status": "completed"
    },
    "tags": []
   },
   "outputs": [
    {
     "data": {
      "text/plain": [
       "<AxesSubplot: xlabel='nums/length username', ylabel='Count'>"
      ]
     },
     "execution_count": 23,
     "metadata": {},
     "output_type": "execute_result"
    },
    {
     "data": {
      "image/png": "[encoded data removed]",
      "text/plain": [
       "<Figure size 2000x1000 with 1 Axes>"
      ]
     },
     "metadata": {},
     "output_type": "display_data"
    }
   ],
   "source": [
    "# Visualize the data\n",
    "plt.figure(figsize = (20, 10))\n",
    "sns.histplot(instagram_df_train['nums/length username'])"
   ]
  },
  {
   "cell_type": "code",
   "execution_count": 24,
   "id": "cef93495",
   "metadata": {
    "collapsed": true,
    "execution": {
     "iopub.execute_input": "2023-05-06T18:32:09.139061Z",
     "iopub.status.busy": "2023-05-06T18:32:09.138627Z",
     "iopub.status.idle": "2023-05-06T18:32:09.143219Z",
     "shell.execute_reply": "2023-05-06T18:32:09.141868Z"
    },
    "jupyter": {
     "outputs_hidden": true
    },
    "papermill": {
     "duration": 0.029044,
     "end_time": "2023-05-06T18:32:09.145886",
     "exception": false,
     "start_time": "2023-05-06T18:32:09.116842",
     "status": "completed"
    },
    "tags": []
   },
   "outputs": [],
   "source": [
    "# Plot pairplot\n",
    "# plt.figure(figsize = (20, 20))\n",
    "# sns.pairplot(instagram_df_train)"
   ]
  },
  {
   "cell_type": "code",
   "execution_count": 25,
   "id": "d0b22b91",
   "metadata": {
    "execution": {
     "iopub.execute_input": "2023-05-06T18:32:09.190090Z",
     "iopub.status.busy": "2023-05-06T18:32:09.188976Z",
     "iopub.status.idle": "2023-05-06T18:32:10.486701Z",
     "shell.execute_reply": "2023-05-06T18:32:10.485708Z"
    },
    "id": "u5rLOxb-VaT_",
    "outputId": "e02424d9-907e-48f5-e9fb-8bbd324422bc",
    "papermill": {
     "duration": 1.32204,
     "end_time": "2023-05-06T18:32:10.489464",
     "exception": false,
     "start_time": "2023-05-06T18:32:09.167424",
     "status": "completed"
    },
    "tags": []
   },
   "outputs": [
    {
     "data": {
      "text/plain": [
       "<AxesSubplot: >"
      ]
     },
     "execution_count": 25,
     "metadata": {},
     "output_type": "execute_result"
    },
    {
     "data": {
      "image/png": "[encoded data removed]",
      "text/plain": [
       "<Figure size 2000x2000 with 2 Axes>"
      ]
     },
     "metadata": {},
     "output_type": "display_data"
    }
   ],
   "source": [
    "# Correlation plot\n",
    "plt.figure(figsize=(20, 20))\n",
    "cm = instagram_df_train.corr()\n",
    "# ax = plt.subplot()\n",
    "sns.heatmap(cm, annot = True)"
   ]
  },
  {
   "cell_type": "markdown",
   "id": "ea9e7653",
   "metadata": {
    "id": "pg7VL_p878qZ",
    "papermill": {
     "duration": 0.022802,
     "end_time": "2023-05-06T18:32:10.535518",
     "exception": false,
     "start_time": "2023-05-06T18:32:10.512716",
     "status": "completed"
    },
    "tags": []
   },
   "source": [
    "MINI CHALLENGE #3:\n",
    "- Plot the count plot for 'fake', 'profile pic' and 'private' testing dataset"
   ]
  },
  {
   "cell_type": "code",
   "execution_count": 26,
   "id": "2df55b4f",
   "metadata": {
    "execution": {
     "iopub.execute_input": "2023-05-06T18:32:10.583715Z",
     "iopub.status.busy": "2023-05-06T18:32:10.583350Z",
     "iopub.status.idle": "2023-05-06T18:32:10.766832Z",
     "shell.execute_reply": "2023-05-06T18:32:10.765757Z"
    },
    "papermill": {
     "duration": 0.210546,
     "end_time": "2023-05-06T18:32:10.769261",
     "exception": false,
     "start_time": "2023-05-06T18:32:10.558715",
     "status": "completed"
    },
    "tags": []
   },
   "outputs": [
    {
     "data": {
      "text/plain": [
       "<AxesSubplot: xlabel='fake', ylabel='count'>"
      ]
     },
     "execution_count": 26,
     "metadata": {},
     "output_type": "execute_result"
    },
    {
     "data": {
      "image/png": "[encoded data removed]",
      "text/plain": [
       "<Figure size 640x480 with 1 Axes>"
      ]
     },
     "metadata": {},
     "output_type": "display_data"
    }
   ],
   "source": [
    "sns.countplot(instagram_df_test,x='fake')"
   ]
  },
  {
   "cell_type": "code",
   "execution_count": 27,
   "id": "ef11b008",
   "metadata": {
    "execution": {
     "iopub.execute_input": "2023-05-06T18:32:10.819895Z",
     "iopub.status.busy": "2023-05-06T18:32:10.819497Z",
     "iopub.status.idle": "2023-05-06T18:32:10.989234Z",
     "shell.execute_reply": "2023-05-06T18:32:10.988124Z"
    },
    "papermill": {
     "duration": 0.197841,
     "end_time": "2023-05-06T18:32:10.991363",
     "exception": false,
     "start_time": "2023-05-06T18:32:10.793522",
     "status": "completed"
    },
    "tags": []
   },
   "outputs": [
    {
     "data": {
      "text/plain": [
       "<AxesSubplot: xlabel='profile pic', ylabel='count'>"
      ]
     },
     "execution_count": 27,
     "metadata": {},
     "output_type": "execute_result"
    },
    {
     "data": {
      "image/png": "[encoded data removed]",
      "text/plain": [
       "<Figure size 640x480 with 1 Axes>"
      ]
     },
     "metadata": {},
     "output_type": "display_data"
    }
   ],
   "source": [
    "sns.countplot(instagram_df_test,x='profile pic')"
   ]
  },
  {
   "cell_type": "code",
   "execution_count": 28,
   "id": "b30a21af",
   "metadata": {
    "execution": {
     "iopub.execute_input": "2023-05-06T18:32:11.041858Z",
     "iopub.status.busy": "2023-05-06T18:32:11.041419Z",
     "iopub.status.idle": "2023-05-06T18:32:11.234403Z",
     "shell.execute_reply": "2023-05-06T18:32:11.233145Z"
    },
    "papermill": {
     "duration": 0.22153,
     "end_time": "2023-05-06T18:32:11.236792",
     "exception": false,
     "start_time": "2023-05-06T18:32:11.015262",
     "status": "completed"
    },
    "tags": []
   },
   "outputs": [
    {
     "data": {
      "text/plain": [
       "<AxesSubplot: xlabel='private', ylabel='count'>"
      ]
     },
     "execution_count": 28,
     "metadata": {},
     "output_type": "execute_result"
    },
    {
     "data": {
      "image/png": "[encoded data removed]",
      "text/plain": [
       "<Figure size 640x480 with 1 Axes>"
      ]
     },
     "metadata": {},
     "output_type": "display_data"
    }
   ],
   "source": [
    "sns.countplot(instagram_df_test,x='private')"
   ]
  },
  {
   "cell_type": "markdown",
   "id": "160829f7",
   "metadata": {
    "id": "3hLk0-WuWu1A",
    "papermill": {
     "duration": 0.02416,
     "end_time": "2023-05-06T18:32:11.285607",
     "exception": false,
     "start_time": "2023-05-06T18:32:11.261447",
     "status": "completed"
    },
    "tags": []
   },
   "source": [
    "# TASK #5: PREPARE THE DATA TO FEED THE MODEL"
   ]
  },
  {
   "cell_type": "code",
   "execution_count": 29,
   "id": "0c20991b",
   "metadata": {
    "execution": {
     "iopub.execute_input": "2023-05-06T18:32:11.336115Z",
     "iopub.status.busy": "2023-05-06T18:32:11.335693Z",
     "iopub.status.idle": "2023-05-06T18:32:11.355663Z",
     "shell.execute_reply": "2023-05-06T18:32:11.354615Z"
    },
    "id": "l3QIBonBS3oO",
    "outputId": "eabe3574-a1b5-42f4-9795-5187fe413169",
    "papermill": {
     "duration": 0.047492,
     "end_time": "2023-05-06T18:32:11.357977",
     "exception": false,
     "start_time": "2023-05-06T18:32:11.310485",
     "status": "completed"
    },
    "tags": []
   },
   "outputs": [
    {
     "data": {
      "text/html": [
       "<div>\n",
       "<style scoped>\n",
       "    .dataframe tbody tr th:only-of-type {\n",
       "        vertical-align: middle;\n",
       "    }\n",
       "\n",
       "    .dataframe tbody tr th {\n",
       "        vertical-align: top;\n",
       "    }\n",
       "\n",
       "    .dataframe thead th {\n",
       "        text-align: right;\n",
       "    }\n",
       "</style>\n",
       "<table border=\"1\" class=\"dataframe\">\n",
       "  <thead>\n",
       "    <tr style=\"text-align: right;\">\n",
       "      <th></th>\n",
       "      <th>profile pic</th>\n",
       "      <th>nums/length username</th>\n",
       "      <th>fullname words</th>\n",
       "      <th>nums/length fullname</th>\n",
       "      <th>name==username</th>\n",
       "      <th>description length</th>\n",
       "      <th>external URL</th>\n",
       "      <th>private</th>\n",
       "      <th>#posts</th>\n",
       "      <th>#followers</th>\n",
       "      <th>#follows</th>\n",
       "    </tr>\n",
       "  </thead>\n",
       "  <tbody>\n",
       "    <tr>\n",
       "      <th>0</th>\n",
       "      <td>1</td>\n",
       "      <td>0.27</td>\n",
       "      <td>0</td>\n",
       "      <td>0.00</td>\n",
       "      <td>0</td>\n",
       "      <td>53</td>\n",
       "      <td>0</td>\n",
       "      <td>0</td>\n",
       "      <td>32</td>\n",
       "      <td>1000</td>\n",
       "      <td>955</td>\n",
       "    </tr>\n",
       "    <tr>\n",
       "      <th>1</th>\n",
       "      <td>1</td>\n",
       "      <td>0.00</td>\n",
       "      <td>2</td>\n",
       "      <td>0.00</td>\n",
       "      <td>0</td>\n",
       "      <td>44</td>\n",
       "      <td>0</td>\n",
       "      <td>0</td>\n",
       "      <td>286</td>\n",
       "      <td>2740</td>\n",
       "      <td>533</td>\n",
       "    </tr>\n",
       "    <tr>\n",
       "      <th>2</th>\n",
       "      <td>1</td>\n",
       "      <td>0.10</td>\n",
       "      <td>2</td>\n",
       "      <td>0.00</td>\n",
       "      <td>0</td>\n",
       "      <td>0</td>\n",
       "      <td>0</td>\n",
       "      <td>1</td>\n",
       "      <td>13</td>\n",
       "      <td>159</td>\n",
       "      <td>98</td>\n",
       "    </tr>\n",
       "    <tr>\n",
       "      <th>3</th>\n",
       "      <td>1</td>\n",
       "      <td>0.00</td>\n",
       "      <td>1</td>\n",
       "      <td>0.00</td>\n",
       "      <td>0</td>\n",
       "      <td>82</td>\n",
       "      <td>0</td>\n",
       "      <td>0</td>\n",
       "      <td>679</td>\n",
       "      <td>414</td>\n",
       "      <td>651</td>\n",
       "    </tr>\n",
       "    <tr>\n",
       "      <th>4</th>\n",
       "      <td>1</td>\n",
       "      <td>0.00</td>\n",
       "      <td>2</td>\n",
       "      <td>0.00</td>\n",
       "      <td>0</td>\n",
       "      <td>0</td>\n",
       "      <td>0</td>\n",
       "      <td>1</td>\n",
       "      <td>6</td>\n",
       "      <td>151</td>\n",
       "      <td>126</td>\n",
       "    </tr>\n",
       "    <tr>\n",
       "      <th>...</th>\n",
       "      <td>...</td>\n",
       "      <td>...</td>\n",
       "      <td>...</td>\n",
       "      <td>...</td>\n",
       "      <td>...</td>\n",
       "      <td>...</td>\n",
       "      <td>...</td>\n",
       "      <td>...</td>\n",
       "      <td>...</td>\n",
       "      <td>...</td>\n",
       "      <td>...</td>\n",
       "    </tr>\n",
       "    <tr>\n",
       "      <th>571</th>\n",
       "      <td>1</td>\n",
       "      <td>0.55</td>\n",
       "      <td>1</td>\n",
       "      <td>0.44</td>\n",
       "      <td>0</td>\n",
       "      <td>0</td>\n",
       "      <td>0</td>\n",
       "      <td>0</td>\n",
       "      <td>33</td>\n",
       "      <td>166</td>\n",
       "      <td>596</td>\n",
       "    </tr>\n",
       "    <tr>\n",
       "      <th>572</th>\n",
       "      <td>1</td>\n",
       "      <td>0.38</td>\n",
       "      <td>1</td>\n",
       "      <td>0.33</td>\n",
       "      <td>0</td>\n",
       "      <td>21</td>\n",
       "      <td>0</td>\n",
       "      <td>0</td>\n",
       "      <td>44</td>\n",
       "      <td>66</td>\n",
       "      <td>75</td>\n",
       "    </tr>\n",
       "    <tr>\n",
       "      <th>573</th>\n",
       "      <td>1</td>\n",
       "      <td>0.57</td>\n",
       "      <td>2</td>\n",
       "      <td>0.00</td>\n",
       "      <td>0</td>\n",
       "      <td>0</td>\n",
       "      <td>0</td>\n",
       "      <td>0</td>\n",
       "      <td>4</td>\n",
       "      <td>96</td>\n",
       "      <td>339</td>\n",
       "    </tr>\n",
       "    <tr>\n",
       "      <th>574</th>\n",
       "      <td>1</td>\n",
       "      <td>0.57</td>\n",
       "      <td>1</td>\n",
       "      <td>0.00</td>\n",
       "      <td>0</td>\n",
       "      <td>11</td>\n",
       "      <td>0</td>\n",
       "      <td>0</td>\n",
       "      <td>0</td>\n",
       "      <td>57</td>\n",
       "      <td>73</td>\n",
       "    </tr>\n",
       "    <tr>\n",
       "      <th>575</th>\n",
       "      <td>1</td>\n",
       "      <td>0.27</td>\n",
       "      <td>1</td>\n",
       "      <td>0.00</td>\n",
       "      <td>0</td>\n",
       "      <td>0</td>\n",
       "      <td>0</td>\n",
       "      <td>0</td>\n",
       "      <td>2</td>\n",
       "      <td>150</td>\n",
       "      <td>487</td>\n",
       "    </tr>\n",
       "  </tbody>\n",
       "</table>\n",
       "<p>576 rows × 11 columns</p>\n",
       "</div>"
      ],
      "text/plain": [
       "     profile pic  nums/length username  fullname words  nums/length fullname  \\\n",
       "0              1                  0.27               0                  0.00   \n",
       "1              1                  0.00               2                  0.00   \n",
       "2              1                  0.10               2                  0.00   \n",
       "3              1                  0.00               1                  0.00   \n",
       "4              1                  0.00               2                  0.00   \n",
       "..           ...                   ...             ...                   ...   \n",
       "571            1                  0.55               1                  0.44   \n",
       "572            1                  0.38               1                  0.33   \n",
       "573            1                  0.57               2                  0.00   \n",
       "574            1                  0.57               1                  0.00   \n",
       "575            1                  0.27               1                  0.00   \n",
       "\n",
       "     name==username  description length  external URL  private  #posts  \\\n",
       "0                 0                  53             0        0      32   \n",
       "1                 0                  44             0        0     286   \n",
       "2                 0                   0             0        1      13   \n",
       "3                 0                  82             0        0     679   \n",
       "4                 0                   0             0        1       6   \n",
       "..              ...                 ...           ...      ...     ...   \n",
       "571               0                   0             0        0      33   \n",
       "572               0                  21             0        0      44   \n",
       "573               0                   0             0        0       4   \n",
       "574               0                  11             0        0       0   \n",
       "575               0                   0             0        0       2   \n",
       "\n",
       "     #followers  #follows  \n",
       "0          1000       955  \n",
       "1          2740       533  \n",
       "2           159        98  \n",
       "3           414       651  \n",
       "4           151       126  \n",
       "..          ...       ...  \n",
       "571         166       596  \n",
       "572          66        75  \n",
       "573          96       339  \n",
       "574          57        73  \n",
       "575         150       487  \n",
       "\n",
       "[576 rows x 11 columns]"
      ]
     },
     "execution_count": 29,
     "metadata": {},
     "output_type": "execute_result"
    }
   ],
   "source": [
    "# Training and testing dataset (inputs)\n",
    "X_train = instagram_df_train.drop(columns = ['fake'])\n",
    "X_test = instagram_df_test.drop(columns = ['fake'])\n",
    "X_train"
   ]
  },
  {
   "cell_type": "code",
   "execution_count": 30,
   "id": "7d9aee7f",
   "metadata": {
    "execution": {
     "iopub.execute_input": "2023-05-06T18:32:11.409039Z",
     "iopub.status.busy": "2023-05-06T18:32:11.408378Z",
     "iopub.status.idle": "2023-05-06T18:32:11.426324Z",
     "shell.execute_reply": "2023-05-06T18:32:11.425315Z"
    },
    "papermill": {
     "duration": 0.045793,
     "end_time": "2023-05-06T18:32:11.428601",
     "exception": false,
     "start_time": "2023-05-06T18:32:11.382808",
     "status": "completed"
    },
    "tags": []
   },
   "outputs": [
    {
     "data": {
      "text/html": [
       "<div>\n",
       "<style scoped>\n",
       "    .dataframe tbody tr th:only-of-type {\n",
       "        vertical-align: middle;\n",
       "    }\n",
       "\n",
       "    .dataframe tbody tr th {\n",
       "        vertical-align: top;\n",
       "    }\n",
       "\n",
       "    .dataframe thead th {\n",
       "        text-align: right;\n",
       "    }\n",
       "</style>\n",
       "<table border=\"1\" class=\"dataframe\">\n",
       "  <thead>\n",
       "    <tr style=\"text-align: right;\">\n",
       "      <th></th>\n",
       "      <th>profile pic</th>\n",
       "      <th>nums/length username</th>\n",
       "      <th>fullname words</th>\n",
       "      <th>nums/length fullname</th>\n",
       "      <th>name==username</th>\n",
       "      <th>description length</th>\n",
       "      <th>external URL</th>\n",
       "      <th>private</th>\n",
       "      <th>#posts</th>\n",
       "      <th>#followers</th>\n",
       "      <th>#follows</th>\n",
       "    </tr>\n",
       "  </thead>\n",
       "  <tbody>\n",
       "    <tr>\n",
       "      <th>0</th>\n",
       "      <td>1</td>\n",
       "      <td>0.33</td>\n",
       "      <td>1</td>\n",
       "      <td>0.33</td>\n",
       "      <td>1</td>\n",
       "      <td>30</td>\n",
       "      <td>0</td>\n",
       "      <td>1</td>\n",
       "      <td>35</td>\n",
       "      <td>488</td>\n",
       "      <td>604</td>\n",
       "    </tr>\n",
       "    <tr>\n",
       "      <th>1</th>\n",
       "      <td>1</td>\n",
       "      <td>0.00</td>\n",
       "      <td>5</td>\n",
       "      <td>0.00</td>\n",
       "      <td>0</td>\n",
       "      <td>64</td>\n",
       "      <td>0</td>\n",
       "      <td>1</td>\n",
       "      <td>3</td>\n",
       "      <td>35</td>\n",
       "      <td>6</td>\n",
       "    </tr>\n",
       "    <tr>\n",
       "      <th>2</th>\n",
       "      <td>1</td>\n",
       "      <td>0.00</td>\n",
       "      <td>2</td>\n",
       "      <td>0.00</td>\n",
       "      <td>0</td>\n",
       "      <td>82</td>\n",
       "      <td>0</td>\n",
       "      <td>1</td>\n",
       "      <td>319</td>\n",
       "      <td>328</td>\n",
       "      <td>668</td>\n",
       "    </tr>\n",
       "    <tr>\n",
       "      <th>3</th>\n",
       "      <td>1</td>\n",
       "      <td>0.00</td>\n",
       "      <td>1</td>\n",
       "      <td>0.00</td>\n",
       "      <td>0</td>\n",
       "      <td>143</td>\n",
       "      <td>0</td>\n",
       "      <td>1</td>\n",
       "      <td>273</td>\n",
       "      <td>14890</td>\n",
       "      <td>7369</td>\n",
       "    </tr>\n",
       "    <tr>\n",
       "      <th>4</th>\n",
       "      <td>1</td>\n",
       "      <td>0.50</td>\n",
       "      <td>1</td>\n",
       "      <td>0.00</td>\n",
       "      <td>0</td>\n",
       "      <td>76</td>\n",
       "      <td>0</td>\n",
       "      <td>1</td>\n",
       "      <td>6</td>\n",
       "      <td>225</td>\n",
       "      <td>356</td>\n",
       "    </tr>\n",
       "    <tr>\n",
       "      <th>...</th>\n",
       "      <td>...</td>\n",
       "      <td>...</td>\n",
       "      <td>...</td>\n",
       "      <td>...</td>\n",
       "      <td>...</td>\n",
       "      <td>...</td>\n",
       "      <td>...</td>\n",
       "      <td>...</td>\n",
       "      <td>...</td>\n",
       "      <td>...</td>\n",
       "      <td>...</td>\n",
       "    </tr>\n",
       "    <tr>\n",
       "      <th>115</th>\n",
       "      <td>1</td>\n",
       "      <td>0.29</td>\n",
       "      <td>1</td>\n",
       "      <td>0.00</td>\n",
       "      <td>0</td>\n",
       "      <td>0</td>\n",
       "      <td>0</td>\n",
       "      <td>0</td>\n",
       "      <td>13</td>\n",
       "      <td>114</td>\n",
       "      <td>811</td>\n",
       "    </tr>\n",
       "    <tr>\n",
       "      <th>116</th>\n",
       "      <td>1</td>\n",
       "      <td>0.40</td>\n",
       "      <td>1</td>\n",
       "      <td>0.00</td>\n",
       "      <td>0</td>\n",
       "      <td>0</td>\n",
       "      <td>0</td>\n",
       "      <td>0</td>\n",
       "      <td>4</td>\n",
       "      <td>150</td>\n",
       "      <td>164</td>\n",
       "    </tr>\n",
       "    <tr>\n",
       "      <th>117</th>\n",
       "      <td>1</td>\n",
       "      <td>0.00</td>\n",
       "      <td>2</td>\n",
       "      <td>0.00</td>\n",
       "      <td>0</td>\n",
       "      <td>0</td>\n",
       "      <td>0</td>\n",
       "      <td>0</td>\n",
       "      <td>3</td>\n",
       "      <td>833</td>\n",
       "      <td>3572</td>\n",
       "    </tr>\n",
       "    <tr>\n",
       "      <th>118</th>\n",
       "      <td>0</td>\n",
       "      <td>0.17</td>\n",
       "      <td>1</td>\n",
       "      <td>0.00</td>\n",
       "      <td>0</td>\n",
       "      <td>0</td>\n",
       "      <td>0</td>\n",
       "      <td>0</td>\n",
       "      <td>1</td>\n",
       "      <td>219</td>\n",
       "      <td>1695</td>\n",
       "    </tr>\n",
       "    <tr>\n",
       "      <th>119</th>\n",
       "      <td>1</td>\n",
       "      <td>0.44</td>\n",
       "      <td>1</td>\n",
       "      <td>0.00</td>\n",
       "      <td>0</td>\n",
       "      <td>0</td>\n",
       "      <td>0</td>\n",
       "      <td>0</td>\n",
       "      <td>3</td>\n",
       "      <td>39</td>\n",
       "      <td>68</td>\n",
       "    </tr>\n",
       "  </tbody>\n",
       "</table>\n",
       "<p>120 rows × 11 columns</p>\n",
       "</div>"
      ],
      "text/plain": [
       "     profile pic  nums/length username  fullname words  nums/length fullname  \\\n",
       "0              1                  0.33               1                  0.33   \n",
       "1              1                  0.00               5                  0.00   \n",
       "2              1                  0.00               2                  0.00   \n",
       "3              1                  0.00               1                  0.00   \n",
       "4              1                  0.50               1                  0.00   \n",
       "..           ...                   ...             ...                   ...   \n",
       "115            1                  0.29               1                  0.00   \n",
       "116            1                  0.40               1                  0.00   \n",
       "117            1                  0.00               2                  0.00   \n",
       "118            0                  0.17               1                  0.00   \n",
       "119            1                  0.44               1                  0.00   \n",
       "\n",
       "     name==username  description length  external URL  private  #posts  \\\n",
       "0                 1                  30             0        1      35   \n",
       "1                 0                  64             0        1       3   \n",
       "2                 0                  82             0        1     319   \n",
       "3                 0                 143             0        1     273   \n",
       "4                 0                  76             0        1       6   \n",
       "..              ...                 ...           ...      ...     ...   \n",
       "115               0                   0             0        0      13   \n",
       "116               0                   0             0        0       4   \n",
       "117               0                   0             0        0       3   \n",
       "118               0                   0             0        0       1   \n",
       "119               0                   0             0        0       3   \n",
       "\n",
       "     #followers  #follows  \n",
       "0           488       604  \n",
       "1            35         6  \n",
       "2           328       668  \n",
       "3         14890      7369  \n",
       "4           225       356  \n",
       "..          ...       ...  \n",
       "115         114       811  \n",
       "116         150       164  \n",
       "117         833      3572  \n",
       "118         219      1695  \n",
       "119          39        68  \n",
       "\n",
       "[120 rows x 11 columns]"
      ]
     },
     "execution_count": 30,
     "metadata": {},
     "output_type": "execute_result"
    }
   ],
   "source": [
    "X_test"
   ]
  },
  {
   "cell_type": "code",
   "execution_count": 31,
   "id": "134b21ae",
   "metadata": {
    "execution": {
     "iopub.execute_input": "2023-05-06T18:32:11.480433Z",
     "iopub.status.busy": "2023-05-06T18:32:11.479647Z",
     "iopub.status.idle": "2023-05-06T18:32:11.484955Z",
     "shell.execute_reply": "2023-05-06T18:32:11.483755Z"
    },
    "id": "YcAl_cZ8fTwG",
    "outputId": "b53afa7a-a6b5-44f6-9fbf-5e657fcd6959",
    "papermill": {
     "duration": 0.033667,
     "end_time": "2023-05-06T18:32:11.487218",
     "exception": false,
     "start_time": "2023-05-06T18:32:11.453551",
     "status": "completed"
    },
    "tags": []
   },
   "outputs": [],
   "source": [
    "# Training and testing dataset (Outputs)\n",
    "y_train = instagram_df_train['fake']\n",
    "y_test = instagram_df_test['fake']"
   ]
  },
  {
   "cell_type": "code",
   "execution_count": 32,
   "id": "e1261460",
   "metadata": {
    "execution": {
     "iopub.execute_input": "2023-05-06T18:32:11.539910Z",
     "iopub.status.busy": "2023-05-06T18:32:11.539525Z",
     "iopub.status.idle": "2023-05-06T18:32:11.547523Z",
     "shell.execute_reply": "2023-05-06T18:32:11.546482Z"
    },
    "papermill": {
     "duration": 0.037607,
     "end_time": "2023-05-06T18:32:11.549851",
     "exception": false,
     "start_time": "2023-05-06T18:32:11.512244",
     "status": "completed"
    },
    "tags": []
   },
   "outputs": [
    {
     "data": {
      "text/plain": [
       "0      0\n",
       "1      0\n",
       "2      0\n",
       "3      0\n",
       "4      0\n",
       "      ..\n",
       "571    1\n",
       "572    1\n",
       "573    1\n",
       "574    1\n",
       "575    1\n",
       "Name: fake, Length: 576, dtype: int64"
      ]
     },
     "execution_count": 32,
     "metadata": {},
     "output_type": "execute_result"
    }
   ],
   "source": [
    "y_train"
   ]
  },
  {
   "cell_type": "code",
   "execution_count": 33,
   "id": "bcf47ebe",
   "metadata": {
    "execution": {
     "iopub.execute_input": "2023-05-06T18:32:11.603142Z",
     "iopub.status.busy": "2023-05-06T18:32:11.602734Z",
     "iopub.status.idle": "2023-05-06T18:32:11.610399Z",
     "shell.execute_reply": "2023-05-06T18:32:11.609267Z"
    },
    "papermill": {
     "duration": 0.037039,
     "end_time": "2023-05-06T18:32:11.612869",
     "exception": false,
     "start_time": "2023-05-06T18:32:11.575830",
     "status": "completed"
    },
    "tags": []
   },
   "outputs": [
    {
     "data": {
      "text/plain": [
       "0      0\n",
       "1      0\n",
       "2      0\n",
       "3      0\n",
       "4      0\n",
       "      ..\n",
       "115    1\n",
       "116    1\n",
       "117    1\n",
       "118    1\n",
       "119    1\n",
       "Name: fake, Length: 120, dtype: int64"
      ]
     },
     "execution_count": 33,
     "metadata": {},
     "output_type": "execute_result"
    }
   ],
   "source": [
    "y_test"
   ]
  },
  {
   "cell_type": "code",
   "execution_count": 34,
   "id": "05a87203",
   "metadata": {
    "execution": {
     "iopub.execute_input": "2023-05-06T18:32:11.667292Z",
     "iopub.status.busy": "2023-05-06T18:32:11.666882Z",
     "iopub.status.idle": "2023-05-06T18:32:11.677599Z",
     "shell.execute_reply": "2023-05-06T18:32:11.676671Z"
    },
    "papermill": {
     "duration": 0.041242,
     "end_time": "2023-05-06T18:32:11.679696",
     "exception": false,
     "start_time": "2023-05-06T18:32:11.638454",
     "status": "completed"
    },
    "tags": []
   },
   "outputs": [],
   "source": [
    "# Scale the data before training the model\n",
    "from sklearn.preprocessing import StandardScaler, MinMaxScaler\n",
    "\n",
    "scaler_x = StandardScaler()\n",
    "X_train = scaler_x.fit_transform(X_train)\n",
    "X_test = scaler_x.transform(X_test)"
   ]
  },
  {
   "cell_type": "code",
   "execution_count": 35,
   "id": "aa8d8301",
   "metadata": {
    "execution": {
     "iopub.execute_input": "2023-05-06T18:32:11.732256Z",
     "iopub.status.busy": "2023-05-06T18:32:11.731217Z",
     "iopub.status.idle": "2023-05-06T18:32:11.736144Z",
     "shell.execute_reply": "2023-05-06T18:32:11.735041Z"
    },
    "papermill": {
     "duration": 0.033565,
     "end_time": "2023-05-06T18:32:11.738247",
     "exception": false,
     "start_time": "2023-05-06T18:32:11.704682",
     "status": "completed"
    },
    "tags": []
   },
   "outputs": [],
   "source": [
    "# !pip install keras"
   ]
  },
  {
   "cell_type": "code",
   "execution_count": 36,
   "id": "3d90419b",
   "metadata": {
    "execution": {
     "iopub.execute_input": "2023-05-06T18:32:11.791681Z",
     "iopub.status.busy": "2023-05-06T18:32:11.791018Z",
     "iopub.status.idle": "2023-05-06T18:32:11.795519Z",
     "shell.execute_reply": "2023-05-06T18:32:11.794780Z"
    },
    "papermill": {
     "duration": 0.033631,
     "end_time": "2023-05-06T18:32:11.797595",
     "exception": false,
     "start_time": "2023-05-06T18:32:11.763964",
     "status": "completed"
    },
    "tags": []
   },
   "outputs": [],
   "source": [
    "# Categorize the test data\n",
    "# from tensorflow.utils.np_utils import to_categorical\n",
    "\n",
    "y_train = tf.keras.utils.to_categorical(y_train, num_classes = 2)\n",
    "y_test = tf.keras.utils.to_categorical(y_test, num_classes = 2)"
   ]
  },
  {
   "cell_type": "code",
   "execution_count": 37,
   "id": "6473eb1d",
   "metadata": {
    "execution": {
     "iopub.execute_input": "2023-05-06T18:32:11.850538Z",
     "iopub.status.busy": "2023-05-06T18:32:11.849656Z",
     "iopub.status.idle": "2023-05-06T18:32:11.856747Z",
     "shell.execute_reply": "2023-05-06T18:32:11.855800Z"
    },
    "papermill": {
     "duration": 0.035678,
     "end_time": "2023-05-06T18:32:11.858828",
     "exception": false,
     "start_time": "2023-05-06T18:32:11.823150",
     "status": "completed"
    },
    "tags": []
   },
   "outputs": [
    {
     "data": {
      "text/plain": [
       "array([[1., 0.],\n",
       "       [1., 0.],\n",
       "       [1., 0.],\n",
       "       ...,\n",
       "       [0., 1.],\n",
       "       [0., 1.],\n",
       "       [0., 1.]], dtype=float32)"
      ]
     },
     "execution_count": 37,
     "metadata": {},
     "output_type": "execute_result"
    }
   ],
   "source": [
    "y_train"
   ]
  },
  {
   "cell_type": "code",
   "execution_count": 38,
   "id": "ae35e27c",
   "metadata": {
    "execution": {
     "iopub.execute_input": "2023-05-06T18:32:11.911713Z",
     "iopub.status.busy": "2023-05-06T18:32:11.910968Z",
     "iopub.status.idle": "2023-05-06T18:32:11.919443Z",
     "shell.execute_reply": "2023-05-06T18:32:11.918683Z"
    },
    "papermill": {
     "duration": 0.037683,
     "end_time": "2023-05-06T18:32:11.921813",
     "exception": false,
     "start_time": "2023-05-06T18:32:11.884130",
     "status": "completed"
    },
    "tags": []
   },
   "outputs": [
    {
     "data": {
      "text/plain": [
       "array([[1., 0.],\n",
       "       [1., 0.],\n",
       "       [1., 0.],\n",
       "       [1., 0.],\n",
       "       [1., 0.],\n",
       "       [1., 0.],\n",
       "       [1., 0.],\n",
       "       [1., 0.],\n",
       "       [1., 0.],\n",
       "       [1., 0.],\n",
       "       [1., 0.],\n",
       "       [1., 0.],\n",
       "       [1., 0.],\n",
       "       [1., 0.],\n",
       "       [1., 0.],\n",
       "       [1., 0.],\n",
       "       [1., 0.],\n",
       "       [1., 0.],\n",
       "       [1., 0.],\n",
       "       [1., 0.],\n",
       "       [1., 0.],\n",
       "       [1., 0.],\n",
       "       [1., 0.],\n",
       "       [1., 0.],\n",
       "       [1., 0.],\n",
       "       [1., 0.],\n",
       "       [1., 0.],\n",
       "       [1., 0.],\n",
       "       [1., 0.],\n",
       "       [1., 0.],\n",
       "       [1., 0.],\n",
       "       [1., 0.],\n",
       "       [1., 0.],\n",
       "       [1., 0.],\n",
       "       [1., 0.],\n",
       "       [1., 0.],\n",
       "       [1., 0.],\n",
       "       [1., 0.],\n",
       "       [1., 0.],\n",
       "       [1., 0.],\n",
       "       [1., 0.],\n",
       "       [1., 0.],\n",
       "       [1., 0.],\n",
       "       [1., 0.],\n",
       "       [1., 0.],\n",
       "       [1., 0.],\n",
       "       [1., 0.],\n",
       "       [1., 0.],\n",
       "       [1., 0.],\n",
       "       [1., 0.],\n",
       "       [1., 0.],\n",
       "       [1., 0.],\n",
       "       [1., 0.],\n",
       "       [1., 0.],\n",
       "       [1., 0.],\n",
       "       [1., 0.],\n",
       "       [1., 0.],\n",
       "       [1., 0.],\n",
       "       [1., 0.],\n",
       "       [1., 0.],\n",
       "       [0., 1.],\n",
       "       [0., 1.],\n",
       "       [0., 1.],\n",
       "       [0., 1.],\n",
       "       [0., 1.],\n",
       "       [0., 1.],\n",
       "       [0., 1.],\n",
       "       [0., 1.],\n",
       "       [0., 1.],\n",
       "       [0., 1.],\n",
       "       [0., 1.],\n",
       "       [0., 1.],\n",
       "       [0., 1.],\n",
       "       [0., 1.],\n",
       "       [0., 1.],\n",
       "       [0., 1.],\n",
       "       [0., 1.],\n",
       "       [0., 1.],\n",
       "       [0., 1.],\n",
       "       [0., 1.],\n",
       "       [0., 1.],\n",
       "       [0., 1.],\n",
       "       [0., 1.],\n",
       "       [0., 1.],\n",
       "       [0., 1.],\n",
       "       [0., 1.],\n",
       "       [0., 1.],\n",
       "       [0., 1.],\n",
       "       [0., 1.],\n",
       "       [0., 1.],\n",
       "       [0., 1.],\n",
       "       [0., 1.],\n",
       "       [0., 1.],\n",
       "       [0., 1.],\n",
       "       [0., 1.],\n",
       "       [0., 1.],\n",
       "       [0., 1.],\n",
       "       [0., 1.],\n",
       "       [0., 1.],\n",
       "       [0., 1.],\n",
       "       [0., 1.],\n",
       "       [0., 1.],\n",
       "       [0., 1.],\n",
       "       [0., 1.],\n",
       "       [0., 1.],\n",
       "       [0., 1.],\n",
       "       [0., 1.],\n",
       "       [0., 1.],\n",
       "       [0., 1.],\n",
       "       [0., 1.],\n",
       "       [0., 1.],\n",
       "       [0., 1.],\n",
       "       [0., 1.],\n",
       "       [0., 1.],\n",
       "       [0., 1.],\n",
       "       [0., 1.],\n",
       "       [0., 1.],\n",
       "       [0., 1.],\n",
       "       [0., 1.],\n",
       "       [0., 1.]], dtype=float32)"
      ]
     },
     "execution_count": 38,
     "metadata": {},
     "output_type": "execute_result"
    }
   ],
   "source": [
    "y_test"
   ]
  },
  {
   "cell_type": "markdown",
   "id": "41b3ae6d",
   "metadata": {
    "id": "Gl6zD1zU9UNE",
    "papermill": {
     "duration": 0.029463,
     "end_time": "2023-05-06T18:32:11.978624",
     "exception": false,
     "start_time": "2023-05-06T18:32:11.949161",
     "status": "completed"
    },
    "tags": []
   },
   "source": [
    "**MINI CHALLENGE #4:\n",
    "- Print out the shapes of the training and testing datasets\n",
    "- What is the % of the training and testing data?"
   ]
  },
  {
   "cell_type": "code",
   "execution_count": 39,
   "id": "c7e0505e",
   "metadata": {
    "execution": {
     "iopub.execute_input": "2023-05-06T18:32:12.032371Z",
     "iopub.status.busy": "2023-05-06T18:32:12.031630Z",
     "iopub.status.idle": "2023-05-06T18:32:12.037762Z",
     "shell.execute_reply": "2023-05-06T18:32:12.037029Z"
    },
    "papermill": {
     "duration": 0.035044,
     "end_time": "2023-05-06T18:32:12.039686",
     "exception": false,
     "start_time": "2023-05-06T18:32:12.004642",
     "status": "completed"
    },
    "tags": []
   },
   "outputs": [
    {
     "data": {
      "text/plain": [
       "((576, 11), (120, 11), (576, 2), (120, 2))"
      ]
     },
     "execution_count": 39,
     "metadata": {},
     "output_type": "execute_result"
    }
   ],
   "source": [
    "X_train.shape,X_test.shape,y_train.shape,y_test.shape"
   ]
  },
  {
   "cell_type": "code",
   "execution_count": 40,
   "id": "078c2486",
   "metadata": {
    "execution": {
     "iopub.execute_input": "2023-05-06T18:32:12.093404Z",
     "iopub.status.busy": "2023-05-06T18:32:12.092648Z",
     "iopub.status.idle": "2023-05-06T18:32:12.098831Z",
     "shell.execute_reply": "2023-05-06T18:32:12.098048Z"
    },
    "papermill": {
     "duration": 0.035743,
     "end_time": "2023-05-06T18:32:12.101002",
     "exception": false,
     "start_time": "2023-05-06T18:32:12.065259",
     "status": "completed"
    },
    "tags": []
   },
   "outputs": [
    {
     "data": {
      "text/plain": [
       "(82.75862068965517, 17.241379310344826)"
      ]
     },
     "execution_count": 40,
     "metadata": {},
     "output_type": "execute_result"
    }
   ],
   "source": [
    "# len(X_train)/(len(X_test)+len(X_train))*100\n",
    "train_percent = X_train.shape[0]/(X_test.shape[0]+X_train.shape[0])*100\n",
    "train_percent,100-train_percent"
   ]
  },
  {
   "cell_type": "markdown",
   "id": "2e48974b",
   "metadata": {
    "papermill": {
     "duration": 0.025532,
     "end_time": "2023-05-06T18:32:12.152564",
     "exception": false,
     "start_time": "2023-05-06T18:32:12.127032",
     "status": "completed"
    },
    "tags": []
   },
   "source": [
    "# TASK #6: UNDERSTAND THE THEORY AND INTUITION BEHIND NEURAL NETS"
   ]
  },
  {
   "cell_type": "markdown",
   "id": "706a06d5",
   "metadata": {
    "papermill": {
     "duration": 0.025497,
     "end_time": "2023-05-06T18:32:12.203868",
     "exception": false,
     "start_time": "2023-05-06T18:32:12.178371",
     "status": "completed"
    },
    "tags": []
   },
   "source": [
    "# TASK #7: UNDERSTAND THE THEORY AND INTUITION BEHING NEURAL NETWORKS TRAINING"
   ]
  },
  {
   "cell_type": "markdown",
   "id": "f2b7abd1",
   "metadata": {
    "papermill": {
     "duration": 0.025525,
     "end_time": "2023-05-06T18:32:12.255210",
     "exception": false,
     "start_time": "2023-05-06T18:32:12.229685",
     "status": "completed"
    },
    "tags": []
   },
   "source": [
    "- “Backpropagation neural networks: A tutorial” by Barry J.Wythoff\n",
    "- “Improved backpropagation learning in neural networks with windowed momentum”, International Journal of Neural Systems, vol. 12, no.3&4, pp. 303-318. "
   ]
  },
  {
   "cell_type": "markdown",
   "id": "038660b5",
   "metadata": {
    "id": "T5cDA0xpkDQZ",
    "papermill": {
     "duration": 0.025504,
     "end_time": "2023-05-06T18:32:12.306613",
     "exception": false,
     "start_time": "2023-05-06T18:32:12.281109",
     "status": "completed"
    },
    "tags": []
   },
   "source": [
    "# TASK #8: BUILD AND TRAIN A SIMPLE DEEP LEARNING MODEL"
   ]
  },
  {
   "cell_type": "code",
   "execution_count": 41,
   "id": "7ffbab11",
   "metadata": {
    "execution": {
     "iopub.execute_input": "2023-05-06T18:32:12.360601Z",
     "iopub.status.busy": "2023-05-06T18:32:12.359972Z",
     "iopub.status.idle": "2023-05-06T18:32:12.607464Z",
     "shell.execute_reply": "2023-05-06T18:32:12.606092Z"
    },
    "id": "Gr8k5i2Vn7eY",
    "outputId": "d919c14d-7fcd-42ef-9124-fcaf39efde60",
    "papermill": {
     "duration": 0.277385,
     "end_time": "2023-05-06T18:32:12.609654",
     "exception": false,
     "start_time": "2023-05-06T18:32:12.332269",
     "status": "completed"
    },
    "tags": []
   },
   "outputs": [
    {
     "name": "stdout",
     "output_type": "stream",
     "text": [
      "Model: \"sequential\"\n",
      "_________________________________________________________________\n",
      " Layer (type)                Output Shape              Param #   \n",
      "=================================================================\n",
      " dense (Dense)               (None, 50)                600       \n",
      "                                                                 \n",
      " dense_1 (Dense)             (None, 150)               7650      \n",
      "                                                                 \n",
      " dropout (Dropout)           (None, 150)               0         \n",
      "                                                                 \n",
      " dense_2 (Dense)             (None, 25)                3775      \n",
      "                                                                 \n",
      " dropout_1 (Dropout)         (None, 25)                0         \n",
      "                                                                 \n",
      " dense_3 (Dense)             (None, 2)                 52        \n",
      "                                                                 \n",
      "=================================================================\n",
      "Total params: 12,077\n",
      "Trainable params: 12,077\n",
      "Non-trainable params: 0\n",
      "_________________________________________________________________\n"
     ]
    }
   ],
   "source": [
    "import tensorflow.keras\n",
    "from tensorflow.keras.models import Sequential\n",
    "from tensorflow.keras.layers import Dense, Dropout\n",
    "\n",
    "model = Sequential()\n",
    "model.add(Dense(50, input_dim=11, activation='relu'))\n",
    "model.add(Dense(150, activation='relu'))\n",
    "model.add(Dropout(0.3))\n",
    "model.add(Dense(25, activation='relu'))\n",
    "model.add(Dropout(0.3))\n",
    "model.add(Dense(2, activation='softmax'))\n",
    "model.summary()"
   ]
  },
  {
   "cell_type": "code",
   "execution_count": 42,
   "id": "bd3fcdab",
   "metadata": {
    "execution": {
     "iopub.execute_input": "2023-05-06T18:32:12.666352Z",
     "iopub.status.busy": "2023-05-06T18:32:12.665946Z",
     "iopub.status.idle": "2023-05-06T18:32:12.686732Z",
     "shell.execute_reply": "2023-05-06T18:32:12.685558Z"
    },
    "papermill": {
     "duration": 0.05248,
     "end_time": "2023-05-06T18:32:12.689518",
     "exception": false,
     "start_time": "2023-05-06T18:32:12.637038",
     "status": "completed"
    },
    "tags": []
   },
   "outputs": [],
   "source": [
    "model.compile(optimizer = 'adam', loss = 'categorical_crossentropy', metrics = ['accuracy'])"
   ]
  },
  {
   "cell_type": "code",
   "execution_count": 43,
   "id": "96feae8f",
   "metadata": {
    "execution": {
     "iopub.execute_input": "2023-05-06T18:32:12.745886Z",
     "iopub.status.busy": "2023-05-06T18:32:12.744633Z",
     "iopub.status.idle": "2023-05-06T18:32:16.567689Z",
     "shell.execute_reply": "2023-05-06T18:32:16.566805Z"
    },
    "papermill": {
     "duration": 3.854266,
     "end_time": "2023-05-06T18:32:16.570495",
     "exception": false,
     "start_time": "2023-05-06T18:32:12.716229",
     "status": "completed"
    },
    "tags": []
   },
   "outputs": [
    {
     "name": "stdout",
     "output_type": "stream",
     "text": [
      "Epoch 1/20\n",
      "17/17 [==============================] - 1s 17ms/step - loss: 0.6075 - accuracy: 0.7490 - val_loss: 0.5079 - val_accuracy: 0.8276\n",
      "Epoch 2/20\n",
      "17/17 [==============================] - 0s 4ms/step - loss: 0.4310 - accuracy: 0.8803 - val_loss: 0.3001 - val_accuracy: 0.9138\n",
      "Epoch 3/20\n",
      "17/17 [==============================] - 0s 4ms/step - loss: 0.3244 - accuracy: 0.8996 - val_loss: 0.1875 - val_accuracy: 0.9483\n",
      "Epoch 4/20\n",
      "17/17 [==============================] - 0s 4ms/step - loss: 0.2642 - accuracy: 0.9035 - val_loss: 0.2009 - val_accuracy: 0.9138\n",
      "Epoch 5/20\n",
      "17/17 [==============================] - 0s 4ms/step - loss: 0.2568 - accuracy: 0.9073 - val_loss: 0.1796 - val_accuracy: 0.9138\n",
      "Epoch 6/20\n",
      "17/17 [==============================] - 0s 4ms/step - loss: 0.2587 - accuracy: 0.9035 - val_loss: 0.1231 - val_accuracy: 0.9483\n",
      "Epoch 7/20\n",
      "17/17 [==============================] - 0s 4ms/step - loss: 0.2371 - accuracy: 0.9073 - val_loss: 0.1665 - val_accuracy: 0.9138\n",
      "Epoch 8/20\n",
      "17/17 [==============================] - 0s 4ms/step - loss: 0.2310 - accuracy: 0.9054 - val_loss: 0.1400 - val_accuracy: 0.9138\n",
      "Epoch 9/20\n",
      "17/17 [==============================] - 0s 4ms/step - loss: 0.2218 - accuracy: 0.9170 - val_loss: 0.1458 - val_accuracy: 0.9138\n",
      "Epoch 10/20\n",
      "17/17 [==============================] - 0s 4ms/step - loss: 0.2258 - accuracy: 0.9266 - val_loss: 0.1213 - val_accuracy: 0.9138\n",
      "Epoch 11/20\n",
      "17/17 [==============================] - 0s 5ms/step - loss: 0.2181 - accuracy: 0.9170 - val_loss: 0.1775 - val_accuracy: 0.8966\n",
      "Epoch 12/20\n",
      "17/17 [==============================] - 0s 4ms/step - loss: 0.2055 - accuracy: 0.9189 - val_loss: 0.1570 - val_accuracy: 0.8966\n",
      "Epoch 13/20\n",
      "17/17 [==============================] - 0s 4ms/step - loss: 0.2162 - accuracy: 0.9228 - val_loss: 0.1861 - val_accuracy: 0.8966\n",
      "Epoch 14/20\n",
      "17/17 [==============================] - 0s 4ms/step - loss: 0.1839 - accuracy: 0.9286 - val_loss: 0.1442 - val_accuracy: 0.9138\n",
      "Epoch 15/20\n",
      "17/17 [==============================] - 0s 4ms/step - loss: 0.1909 - accuracy: 0.9382 - val_loss: 0.1382 - val_accuracy: 0.9138\n",
      "Epoch 16/20\n",
      "17/17 [==============================] - 0s 4ms/step - loss: 0.1846 - accuracy: 0.9247 - val_loss: 0.2079 - val_accuracy: 0.9138\n",
      "Epoch 17/20\n",
      "17/17 [==============================] - 0s 4ms/step - loss: 0.1836 - accuracy: 0.9228 - val_loss: 0.1659 - val_accuracy: 0.9138\n",
      "Epoch 18/20\n",
      "17/17 [==============================] - 0s 4ms/step - loss: 0.1681 - accuracy: 0.9363 - val_loss: 0.1650 - val_accuracy: 0.9138\n",
      "Epoch 19/20\n",
      "17/17 [==============================] - 0s 4ms/step - loss: 0.1831 - accuracy: 0.9344 - val_loss: 0.1784 - val_accuracy: 0.9138\n",
      "Epoch 20/20\n",
      "17/17 [==============================] - 0s 5ms/step - loss: 0.1658 - accuracy: 0.9305 - val_loss: 0.1935 - val_accuracy: 0.9138\n"
     ]
    }
   ],
   "source": [
    "epochs_hist = model.fit(X_train, y_train, epochs = 20,  verbose = 1, validation_split = 0.1)"
   ]
  },
  {
   "cell_type": "markdown",
   "id": "e6bd2c72",
   "metadata": {
    "papermill": {
     "duration": 0.031045,
     "end_time": "2023-05-06T18:32:16.632106",
     "exception": false,
     "start_time": "2023-05-06T18:32:16.601061",
     "status": "completed"
    },
    "tags": []
   },
   "source": [
    "MINI CHALLENGE #5:\n",
    "- Add a new hidden layer with 25 neurons and 'relu' activation function\n",
    "- Print out the model summary and inicate how many trainable parameters"
   ]
  },
  {
   "cell_type": "code",
   "execution_count": 44,
   "id": "8a01b224",
   "metadata": {
    "execution": {
     "iopub.execute_input": "2023-05-06T18:32:16.697575Z",
     "iopub.status.busy": "2023-05-06T18:32:16.696574Z",
     "iopub.status.idle": "2023-05-06T18:32:16.801676Z",
     "shell.execute_reply": "2023-05-06T18:32:16.800573Z"
    },
    "papermill": {
     "duration": 0.143061,
     "end_time": "2023-05-06T18:32:16.807049",
     "exception": false,
     "start_time": "2023-05-06T18:32:16.663988",
     "status": "completed"
    },
    "tags": []
   },
   "outputs": [
    {
     "name": "stdout",
     "output_type": "stream",
     "text": [
      "Model: \"sequential_1\"\n",
      "_________________________________________________________________\n",
      " Layer (type)                Output Shape              Param #   \n",
      "=================================================================\n",
      " dense_4 (Dense)             (None, 50)                600       \n",
      "                                                                 \n",
      " dense_5 (Dense)             (None, 150)               7650      \n",
      "                                                                 \n",
      " dropout_2 (Dropout)         (None, 150)               0         \n",
      "                                                                 \n",
      " dense_6 (Dense)             (None, 25)                3775      \n",
      "                                                                 \n",
      " dropout_3 (Dropout)         (None, 25)                0         \n",
      "                                                                 \n",
      " dense_7 (Dense)             (None, 25)                650       \n",
      "                                                                 \n",
      " dropout_4 (Dropout)         (None, 25)                0         \n",
      "                                                                 \n",
      " dense_8 (Dense)             (None, 2)                 52        \n",
      "                                                                 \n",
      "=================================================================\n",
      "Total params: 12,727\n",
      "Trainable params: 12,727\n",
      "Non-trainable params: 0\n",
      "_________________________________________________________________\n"
     ]
    }
   ],
   "source": [
    "import tensorflow.keras\n",
    "from tensorflow.keras.models import Sequential\n",
    "from tensorflow.keras.layers import Dense, Dropout\n",
    "\n",
    "model = Sequential()\n",
    "model.add(Dense(50, input_dim=11, activation='relu'))\n",
    "model.add(Dense(150, activation='relu'))\n",
    "model.add(Dropout(0.3))\n",
    "model.add(Dense(25, activation='relu'))\n",
    "model.add(Dropout(0.3))\n",
    "model.add(Dense(25, activation='relu'))\n",
    "model.add(Dropout(0.3))\n",
    "model.add(Dense(2, activation='softmax'))\n",
    "model.summary()"
   ]
  },
  {
   "cell_type": "markdown",
   "id": "d6a61be0",
   "metadata": {
    "papermill": {
     "duration": 0.031253,
     "end_time": "2023-05-06T18:32:16.870114",
     "exception": false,
     "start_time": "2023-05-06T18:32:16.838861",
     "status": "completed"
    },
    "tags": []
   },
   "source": [
    "# TASK #9: ASSESS THE PERORMANCE OF TRAINED MODEL"
   ]
  },
  {
   "cell_type": "code",
   "execution_count": 45,
   "id": "887818aa",
   "metadata": {
    "execution": {
     "iopub.execute_input": "2023-05-06T18:32:16.935583Z",
     "iopub.status.busy": "2023-05-06T18:32:16.935178Z",
     "iopub.status.idle": "2023-05-06T18:32:16.940627Z",
     "shell.execute_reply": "2023-05-06T18:32:16.939524Z"
    },
    "papermill": {
     "duration": 0.04117,
     "end_time": "2023-05-06T18:32:16.943000",
     "exception": false,
     "start_time": "2023-05-06T18:32:16.901830",
     "status": "completed"
    },
    "tags": []
   },
   "outputs": [
    {
     "name": "stdout",
     "output_type": "stream",
     "text": [
      "dict_keys(['loss', 'accuracy', 'val_loss', 'val_accuracy'])\n"
     ]
    }
   ],
   "source": [
    "print(epochs_hist.history.keys())"
   ]
  },
  {
   "cell_type": "code",
   "execution_count": 46,
   "id": "cd9c6ad1",
   "metadata": {
    "execution": {
     "iopub.execute_input": "2023-05-06T18:32:17.012572Z",
     "iopub.status.busy": "2023-05-06T18:32:17.012177Z",
     "iopub.status.idle": "2023-05-06T18:32:17.314142Z",
     "shell.execute_reply": "2023-05-06T18:32:17.312857Z"
    },
    "papermill": {
     "duration": 0.340289,
     "end_time": "2023-05-06T18:32:17.316626",
     "exception": false,
     "start_time": "2023-05-06T18:32:16.976337",
     "status": "completed"
    },
    "tags": []
   },
   "outputs": [
    {
     "data": {
      "text/plain": [
       "<matplotlib.legend.Legend at 0x7de9cc446a10>"
      ]
     },
     "execution_count": 46,
     "metadata": {},
     "output_type": "execute_result"
    },
    {
     "data": {
      "image/png": "[encoded data removed]",
      "text/plain": [
       "<Figure size 640x480 with 1 Axes>"
      ]
     },
     "metadata": {},
     "output_type": "display_data"
    }
   ],
   "source": [
    "plt.plot(epochs_hist.history['loss'])\n",
    "plt.plot(epochs_hist.history['val_loss'])\n",
    "\n",
    "plt.title('Model Loss Progression During Training/Validation')\n",
    "plt.ylabel('Training and Validation Losses')\n",
    "plt.xlabel('Epoch Number')\n",
    "plt.legend(['Training Loss', 'Validation Loss'])\n"
   ]
  },
  {
   "cell_type": "code",
   "execution_count": 47,
   "id": "1d144f46",
   "metadata": {
    "execution": {
     "iopub.execute_input": "2023-05-06T18:32:17.385430Z",
     "iopub.status.busy": "2023-05-06T18:32:17.385018Z",
     "iopub.status.idle": "2023-05-06T18:32:17.577541Z",
     "shell.execute_reply": "2023-05-06T18:32:17.576305Z"
    },
    "papermill": {
     "duration": 0.230047,
     "end_time": "2023-05-06T18:32:17.580064",
     "exception": false,
     "start_time": "2023-05-06T18:32:17.350017",
     "status": "completed"
    },
    "tags": []
   },
   "outputs": [
    {
     "name": "stdout",
     "output_type": "stream",
     "text": [
      "4/4 [==============================] - 0s 2ms/step\n"
     ]
    }
   ],
   "source": [
    "predicted = model.predict(X_test)"
   ]
  },
  {
   "cell_type": "code",
   "execution_count": 48,
   "id": "2f6d2026",
   "metadata": {
    "execution": {
     "iopub.execute_input": "2023-05-06T18:32:17.649033Z",
     "iopub.status.busy": "2023-05-06T18:32:17.648597Z",
     "iopub.status.idle": "2023-05-06T18:32:17.656136Z",
     "shell.execute_reply": "2023-05-06T18:32:17.655049Z"
    },
    "papermill": {
     "duration": 0.044593,
     "end_time": "2023-05-06T18:32:17.658180",
     "exception": false,
     "start_time": "2023-05-06T18:32:17.613587",
     "status": "completed"
    },
    "tags": []
   },
   "outputs": [
    {
     "data": {
      "text/plain": [
       "array([[0.4693748 , 0.53062516],\n",
       "       [0.48079354, 0.51920646]], dtype=float32)"
      ]
     },
     "execution_count": 48,
     "metadata": {},
     "output_type": "execute_result"
    }
   ],
   "source": [
    "predicted[:2]"
   ]
  },
  {
   "cell_type": "code",
   "execution_count": 49,
   "id": "561914ca",
   "metadata": {
    "execution": {
     "iopub.execute_input": "2023-05-06T18:32:17.730267Z",
     "iopub.status.busy": "2023-05-06T18:32:17.729888Z",
     "iopub.status.idle": "2023-05-06T18:32:17.736228Z",
     "shell.execute_reply": "2023-05-06T18:32:17.735409Z"
    },
    "papermill": {
     "duration": 0.043861,
     "end_time": "2023-05-06T18:32:17.738171",
     "exception": false,
     "start_time": "2023-05-06T18:32:17.694310",
     "status": "completed"
    },
    "tags": []
   },
   "outputs": [],
   "source": [
    "predicted_value = []\n",
    "test = []\n",
    "for i in predicted:\n",
    "    predicted_value.append(np.argmax(i))\n",
    "    \n",
    "for i in y_test:\n",
    "    test.append(np.argmax(i))"
   ]
  },
  {
   "cell_type": "code",
   "execution_count": 50,
   "id": "b13b9e77",
   "metadata": {
    "execution": {
     "iopub.execute_input": "2023-05-06T18:32:17.807328Z",
     "iopub.status.busy": "2023-05-06T18:32:17.806633Z",
     "iopub.status.idle": "2023-05-06T18:32:17.819553Z",
     "shell.execute_reply": "2023-05-06T18:32:17.818033Z"
    },
    "papermill": {
     "duration": 0.050062,
     "end_time": "2023-05-06T18:32:17.821763",
     "exception": false,
     "start_time": "2023-05-06T18:32:17.771701",
     "status": "completed"
    },
    "tags": []
   },
   "outputs": [
    {
     "name": "stdout",
     "output_type": "stream",
     "text": [
      "              precision    recall  f1-score   support\n",
      "\n",
      "           0       0.61      0.32      0.42        60\n",
      "           1       0.54      0.80      0.64        60\n",
      "\n",
      "    accuracy                           0.56       120\n",
      "   macro avg       0.58      0.56      0.53       120\n",
      "weighted avg       0.58      0.56      0.53       120\n",
      "\n"
     ]
    }
   ],
   "source": [
    "print(classification_report(test, predicted_value))"
   ]
  },
  {
   "cell_type": "code",
   "execution_count": 51,
   "id": "50b9964e",
   "metadata": {
    "execution": {
     "iopub.execute_input": "2023-05-06T18:32:17.892262Z",
     "iopub.status.busy": "2023-05-06T18:32:17.891857Z",
     "iopub.status.idle": "2023-05-06T18:32:18.201941Z",
     "shell.execute_reply": "2023-05-06T18:32:18.201026Z"
    },
    "papermill": {
     "duration": 0.347514,
     "end_time": "2023-05-06T18:32:18.204109",
     "exception": false,
     "start_time": "2023-05-06T18:32:17.856595",
     "status": "completed"
    },
    "tags": []
   },
   "outputs": [
    {
     "data": {
      "text/plain": [
       "Text(0.5, 80.7222222222222, 'predicted class')"
      ]
     },
     "execution_count": 51,
     "metadata": {},
     "output_type": "execute_result"
    },
    {
     "data": {
      "image/png": "[encoded data removed]",
      "text/plain": [
       "<Figure size 1000x1000 with 2 Axes>"
      ]
     },
     "metadata": {},
     "output_type": "display_data"
    }
   ],
   "source": [
    "plt.figure(figsize=(10, 10))\n",
    "cm = confusion_matrix(test, predicted_value) \n",
    "sns.heatmap(cm, annot = True)\n",
    "plt.ylabel('actual class')\n",
    "plt.xlabel('predicted class')"
   ]
  },
  {
   "cell_type": "markdown",
   "id": "fbd12f4d",
   "metadata": {
    "papermill": {
     "duration": 0.033933,
     "end_time": "2023-05-06T18:32:18.272203",
     "exception": false,
     "start_time": "2023-05-06T18:32:18.238270",
     "status": "completed"
    },
    "tags": []
   },
   "source": [
    "MINI CHALLENGE #6:\n",
    "- Retrain the model for more epochs (30) and reassess model performance. Comment on the results."
   ]
  },
  {
   "cell_type": "code",
   "execution_count": null,
   "id": "4f2667df",
   "metadata": {
    "papermill": {
     "duration": 0.034587,
     "end_time": "2023-05-06T18:32:18.341764",
     "exception": false,
     "start_time": "2023-05-06T18:32:18.307177",
     "status": "completed"
    },
    "tags": []
   },
   "outputs": [],
   "source": []
  },
  {
   "cell_type": "markdown",
   "id": "d1b5060a",
   "metadata": {
    "papermill": {
     "duration": 0.034699,
     "end_time": "2023-05-06T18:32:18.410367",
     "exception": false,
     "start_time": "2023-05-06T18:32:18.375668",
     "status": "completed"
    },
    "tags": []
   },
   "source": [
    "# CONGRATULATIONS ON FINISHING THE PROJECT!"
   ]
  },
  {
   "cell_type": "markdown",
   "id": "d7421160",
   "metadata": {
    "id": "kHNf3wRh9kqq",
    "papermill": {
     "duration": 0.034475,
     "end_time": "2023-05-06T18:32:18.479402",
     "exception": false,
     "start_time": "2023-05-06T18:32:18.444927",
     "status": "completed"
    },
    "tags": []
   },
   "source": [
    "MINI CHALLENGE #1 SOLUTION :\n",
    "- Print the first and last 5 rows in both training and testing DataFrames"
   ]
  },
  {
   "cell_type": "code",
   "execution_count": 52,
   "id": "f027c96b",
   "metadata": {
    "execution": {
     "iopub.execute_input": "2023-05-06T18:32:18.550101Z",
     "iopub.status.busy": "2023-05-06T18:32:18.548864Z",
     "iopub.status.idle": "2023-05-06T18:32:18.563735Z",
     "shell.execute_reply": "2023-05-06T18:32:18.562432Z"
    },
    "papermill": {
     "duration": 0.052698,
     "end_time": "2023-05-06T18:32:18.566135",
     "exception": false,
     "start_time": "2023-05-06T18:32:18.513437",
     "status": "completed"
    },
    "tags": []
   },
   "outputs": [
    {
     "data": {
      "text/html": [
       "<div>\n",
       "<style scoped>\n",
       "    .dataframe tbody tr th:only-of-type {\n",
       "        vertical-align: middle;\n",
       "    }\n",
       "\n",
       "    .dataframe tbody tr th {\n",
       "        vertical-align: top;\n",
       "    }\n",
       "\n",
       "    .dataframe thead th {\n",
       "        text-align: right;\n",
       "    }\n",
       "</style>\n",
       "<table border=\"1\" class=\"dataframe\">\n",
       "  <thead>\n",
       "    <tr style=\"text-align: right;\">\n",
       "      <th></th>\n",
       "      <th>profile pic</th>\n",
       "      <th>nums/length username</th>\n",
       "      <th>fullname words</th>\n",
       "      <th>nums/length fullname</th>\n",
       "      <th>name==username</th>\n",
       "      <th>description length</th>\n",
       "      <th>external URL</th>\n",
       "      <th>private</th>\n",
       "      <th>#posts</th>\n",
       "      <th>#followers</th>\n",
       "      <th>#follows</th>\n",
       "      <th>fake</th>\n",
       "    </tr>\n",
       "  </thead>\n",
       "  <tbody>\n",
       "    <tr>\n",
       "      <th>0</th>\n",
       "      <td>1</td>\n",
       "      <td>0.27</td>\n",
       "      <td>0</td>\n",
       "      <td>0.0</td>\n",
       "      <td>0</td>\n",
       "      <td>53</td>\n",
       "      <td>0</td>\n",
       "      <td>0</td>\n",
       "      <td>32</td>\n",
       "      <td>1000</td>\n",
       "      <td>955</td>\n",
       "      <td>0</td>\n",
       "    </tr>\n",
       "    <tr>\n",
       "      <th>1</th>\n",
       "      <td>1</td>\n",
       "      <td>0.00</td>\n",
       "      <td>2</td>\n",
       "      <td>0.0</td>\n",
       "      <td>0</td>\n",
       "      <td>44</td>\n",
       "      <td>0</td>\n",
       "      <td>0</td>\n",
       "      <td>286</td>\n",
       "      <td>2740</td>\n",
       "      <td>533</td>\n",
       "      <td>0</td>\n",
       "    </tr>\n",
       "    <tr>\n",
       "      <th>2</th>\n",
       "      <td>1</td>\n",
       "      <td>0.10</td>\n",
       "      <td>2</td>\n",
       "      <td>0.0</td>\n",
       "      <td>0</td>\n",
       "      <td>0</td>\n",
       "      <td>0</td>\n",
       "      <td>1</td>\n",
       "      <td>13</td>\n",
       "      <td>159</td>\n",
       "      <td>98</td>\n",
       "      <td>0</td>\n",
       "    </tr>\n",
       "    <tr>\n",
       "      <th>3</th>\n",
       "      <td>1</td>\n",
       "      <td>0.00</td>\n",
       "      <td>1</td>\n",
       "      <td>0.0</td>\n",
       "      <td>0</td>\n",
       "      <td>82</td>\n",
       "      <td>0</td>\n",
       "      <td>0</td>\n",
       "      <td>679</td>\n",
       "      <td>414</td>\n",
       "      <td>651</td>\n",
       "      <td>0</td>\n",
       "    </tr>\n",
       "    <tr>\n",
       "      <th>4</th>\n",
       "      <td>1</td>\n",
       "      <td>0.00</td>\n",
       "      <td>2</td>\n",
       "      <td>0.0</td>\n",
       "      <td>0</td>\n",
       "      <td>0</td>\n",
       "      <td>0</td>\n",
       "      <td>1</td>\n",
       "      <td>6</td>\n",
       "      <td>151</td>\n",
       "      <td>126</td>\n",
       "      <td>0</td>\n",
       "    </tr>\n",
       "  </tbody>\n",
       "</table>\n",
       "</div>"
      ],
      "text/plain": [
       "   profile pic  nums/length username  fullname words  nums/length fullname  \\\n",
       "0            1                  0.27               0                   0.0   \n",
       "1            1                  0.00               2                   0.0   \n",
       "2            1                  0.10               2                   0.0   \n",
       "3            1                  0.00               1                   0.0   \n",
       "4            1                  0.00               2                   0.0   \n",
       "\n",
       "   name==username  description length  external URL  private  #posts  \\\n",
       "0               0                  53             0        0      32   \n",
       "1               0                  44             0        0     286   \n",
       "2               0                   0             0        1      13   \n",
       "3               0                  82             0        0     679   \n",
       "4               0                   0             0        1       6   \n",
       "\n",
       "   #followers  #follows  fake  \n",
       "0        1000       955     0  \n",
       "1        2740       533     0  \n",
       "2         159        98     0  \n",
       "3         414       651     0  \n",
       "4         151       126     0  "
      ]
     },
     "execution_count": 52,
     "metadata": {},
     "output_type": "execute_result"
    }
   ],
   "source": [
    "instagram_df_train.head()"
   ]
  },
  {
   "cell_type": "code",
   "execution_count": 53,
   "id": "86676e6b",
   "metadata": {
    "execution": {
     "iopub.execute_input": "2023-05-06T18:32:18.636686Z",
     "iopub.status.busy": "2023-05-06T18:32:18.636286Z",
     "iopub.status.idle": "2023-05-06T18:32:18.650579Z",
     "shell.execute_reply": "2023-05-06T18:32:18.649407Z"
    },
    "papermill": {
     "duration": 0.052173,
     "end_time": "2023-05-06T18:32:18.653010",
     "exception": false,
     "start_time": "2023-05-06T18:32:18.600837",
     "status": "completed"
    },
    "tags": []
   },
   "outputs": [
    {
     "data": {
      "text/html": [
       "<div>\n",
       "<style scoped>\n",
       "    .dataframe tbody tr th:only-of-type {\n",
       "        vertical-align: middle;\n",
       "    }\n",
       "\n",
       "    .dataframe tbody tr th {\n",
       "        vertical-align: top;\n",
       "    }\n",
       "\n",
       "    .dataframe thead th {\n",
       "        text-align: right;\n",
       "    }\n",
       "</style>\n",
       "<table border=\"1\" class=\"dataframe\">\n",
       "  <thead>\n",
       "    <tr style=\"text-align: right;\">\n",
       "      <th></th>\n",
       "      <th>profile pic</th>\n",
       "      <th>nums/length username</th>\n",
       "      <th>fullname words</th>\n",
       "      <th>nums/length fullname</th>\n",
       "      <th>name==username</th>\n",
       "      <th>description length</th>\n",
       "      <th>external URL</th>\n",
       "      <th>private</th>\n",
       "      <th>#posts</th>\n",
       "      <th>#followers</th>\n",
       "      <th>#follows</th>\n",
       "      <th>fake</th>\n",
       "    </tr>\n",
       "  </thead>\n",
       "  <tbody>\n",
       "    <tr>\n",
       "      <th>571</th>\n",
       "      <td>1</td>\n",
       "      <td>0.55</td>\n",
       "      <td>1</td>\n",
       "      <td>0.44</td>\n",
       "      <td>0</td>\n",
       "      <td>0</td>\n",
       "      <td>0</td>\n",
       "      <td>0</td>\n",
       "      <td>33</td>\n",
       "      <td>166</td>\n",
       "      <td>596</td>\n",
       "      <td>1</td>\n",
       "    </tr>\n",
       "    <tr>\n",
       "      <th>572</th>\n",
       "      <td>1</td>\n",
       "      <td>0.38</td>\n",
       "      <td>1</td>\n",
       "      <td>0.33</td>\n",
       "      <td>0</td>\n",
       "      <td>21</td>\n",
       "      <td>0</td>\n",
       "      <td>0</td>\n",
       "      <td>44</td>\n",
       "      <td>66</td>\n",
       "      <td>75</td>\n",
       "      <td>1</td>\n",
       "    </tr>\n",
       "    <tr>\n",
       "      <th>573</th>\n",
       "      <td>1</td>\n",
       "      <td>0.57</td>\n",
       "      <td>2</td>\n",
       "      <td>0.00</td>\n",
       "      <td>0</td>\n",
       "      <td>0</td>\n",
       "      <td>0</td>\n",
       "      <td>0</td>\n",
       "      <td>4</td>\n",
       "      <td>96</td>\n",
       "      <td>339</td>\n",
       "      <td>1</td>\n",
       "    </tr>\n",
       "    <tr>\n",
       "      <th>574</th>\n",
       "      <td>1</td>\n",
       "      <td>0.57</td>\n",
       "      <td>1</td>\n",
       "      <td>0.00</td>\n",
       "      <td>0</td>\n",
       "      <td>11</td>\n",
       "      <td>0</td>\n",
       "      <td>0</td>\n",
       "      <td>0</td>\n",
       "      <td>57</td>\n",
       "      <td>73</td>\n",
       "      <td>1</td>\n",
       "    </tr>\n",
       "    <tr>\n",
       "      <th>575</th>\n",
       "      <td>1</td>\n",
       "      <td>0.27</td>\n",
       "      <td>1</td>\n",
       "      <td>0.00</td>\n",
       "      <td>0</td>\n",
       "      <td>0</td>\n",
       "      <td>0</td>\n",
       "      <td>0</td>\n",
       "      <td>2</td>\n",
       "      <td>150</td>\n",
       "      <td>487</td>\n",
       "      <td>1</td>\n",
       "    </tr>\n",
       "  </tbody>\n",
       "</table>\n",
       "</div>"
      ],
      "text/plain": [
       "     profile pic  nums/length username  fullname words  nums/length fullname  \\\n",
       "571            1                  0.55               1                  0.44   \n",
       "572            1                  0.38               1                  0.33   \n",
       "573            1                  0.57               2                  0.00   \n",
       "574            1                  0.57               1                  0.00   \n",
       "575            1                  0.27               1                  0.00   \n",
       "\n",
       "     name==username  description length  external URL  private  #posts  \\\n",
       "571               0                   0             0        0      33   \n",
       "572               0                  21             0        0      44   \n",
       "573               0                   0             0        0       4   \n",
       "574               0                  11             0        0       0   \n",
       "575               0                   0             0        0       2   \n",
       "\n",
       "     #followers  #follows  fake  \n",
       "571         166       596     1  \n",
       "572          66        75     1  \n",
       "573          96       339     1  \n",
       "574          57        73     1  \n",
       "575         150       487     1  "
      ]
     },
     "execution_count": 53,
     "metadata": {},
     "output_type": "execute_result"
    }
   ],
   "source": [
    "instagram_df_train.tail()"
   ]
  },
  {
   "cell_type": "code",
   "execution_count": 54,
   "id": "84690758",
   "metadata": {
    "execution": {
     "iopub.execute_input": "2023-05-06T18:32:18.737422Z",
     "iopub.status.busy": "2023-05-06T18:32:18.737011Z",
     "iopub.status.idle": "2023-05-06T18:32:18.752298Z",
     "shell.execute_reply": "2023-05-06T18:32:18.751235Z"
    },
    "papermill": {
     "duration": 0.060083,
     "end_time": "2023-05-06T18:32:18.754732",
     "exception": false,
     "start_time": "2023-05-06T18:32:18.694649",
     "status": "completed"
    },
    "tags": []
   },
   "outputs": [
    {
     "data": {
      "text/html": [
       "<div>\n",
       "<style scoped>\n",
       "    .dataframe tbody tr th:only-of-type {\n",
       "        vertical-align: middle;\n",
       "    }\n",
       "\n",
       "    .dataframe tbody tr th {\n",
       "        vertical-align: top;\n",
       "    }\n",
       "\n",
       "    .dataframe thead th {\n",
       "        text-align: right;\n",
       "    }\n",
       "</style>\n",
       "<table border=\"1\" class=\"dataframe\">\n",
       "  <thead>\n",
       "    <tr style=\"text-align: right;\">\n",
       "      <th></th>\n",
       "      <th>profile pic</th>\n",
       "      <th>nums/length username</th>\n",
       "      <th>fullname words</th>\n",
       "      <th>nums/length fullname</th>\n",
       "      <th>name==username</th>\n",
       "      <th>description length</th>\n",
       "      <th>external URL</th>\n",
       "      <th>private</th>\n",
       "      <th>#posts</th>\n",
       "      <th>#followers</th>\n",
       "      <th>#follows</th>\n",
       "      <th>fake</th>\n",
       "    </tr>\n",
       "  </thead>\n",
       "  <tbody>\n",
       "    <tr>\n",
       "      <th>0</th>\n",
       "      <td>1</td>\n",
       "      <td>0.33</td>\n",
       "      <td>1</td>\n",
       "      <td>0.33</td>\n",
       "      <td>1</td>\n",
       "      <td>30</td>\n",
       "      <td>0</td>\n",
       "      <td>1</td>\n",
       "      <td>35</td>\n",
       "      <td>488</td>\n",
       "      <td>604</td>\n",
       "      <td>0</td>\n",
       "    </tr>\n",
       "    <tr>\n",
       "      <th>1</th>\n",
       "      <td>1</td>\n",
       "      <td>0.00</td>\n",
       "      <td>5</td>\n",
       "      <td>0.00</td>\n",
       "      <td>0</td>\n",
       "      <td>64</td>\n",
       "      <td>0</td>\n",
       "      <td>1</td>\n",
       "      <td>3</td>\n",
       "      <td>35</td>\n",
       "      <td>6</td>\n",
       "      <td>0</td>\n",
       "    </tr>\n",
       "    <tr>\n",
       "      <th>2</th>\n",
       "      <td>1</td>\n",
       "      <td>0.00</td>\n",
       "      <td>2</td>\n",
       "      <td>0.00</td>\n",
       "      <td>0</td>\n",
       "      <td>82</td>\n",
       "      <td>0</td>\n",
       "      <td>1</td>\n",
       "      <td>319</td>\n",
       "      <td>328</td>\n",
       "      <td>668</td>\n",
       "      <td>0</td>\n",
       "    </tr>\n",
       "    <tr>\n",
       "      <th>3</th>\n",
       "      <td>1</td>\n",
       "      <td>0.00</td>\n",
       "      <td>1</td>\n",
       "      <td>0.00</td>\n",
       "      <td>0</td>\n",
       "      <td>143</td>\n",
       "      <td>0</td>\n",
       "      <td>1</td>\n",
       "      <td>273</td>\n",
       "      <td>14890</td>\n",
       "      <td>7369</td>\n",
       "      <td>0</td>\n",
       "    </tr>\n",
       "    <tr>\n",
       "      <th>4</th>\n",
       "      <td>1</td>\n",
       "      <td>0.50</td>\n",
       "      <td>1</td>\n",
       "      <td>0.00</td>\n",
       "      <td>0</td>\n",
       "      <td>76</td>\n",
       "      <td>0</td>\n",
       "      <td>1</td>\n",
       "      <td>6</td>\n",
       "      <td>225</td>\n",
       "      <td>356</td>\n",
       "      <td>0</td>\n",
       "    </tr>\n",
       "  </tbody>\n",
       "</table>\n",
       "</div>"
      ],
      "text/plain": [
       "   profile pic  nums/length username  fullname words  nums/length fullname  \\\n",
       "0            1                  0.33               1                  0.33   \n",
       "1            1                  0.00               5                  0.00   \n",
       "2            1                  0.00               2                  0.00   \n",
       "3            1                  0.00               1                  0.00   \n",
       "4            1                  0.50               1                  0.00   \n",
       "\n",
       "   name==username  description length  external URL  private  #posts  \\\n",
       "0               1                  30             0        1      35   \n",
       "1               0                  64             0        1       3   \n",
       "2               0                  82             0        1     319   \n",
       "3               0                 143             0        1     273   \n",
       "4               0                  76             0        1       6   \n",
       "\n",
       "   #followers  #follows  fake  \n",
       "0         488       604     0  \n",
       "1          35         6     0  \n",
       "2         328       668     0  \n",
       "3       14890      7369     0  \n",
       "4         225       356     0  "
      ]
     },
     "execution_count": 54,
     "metadata": {},
     "output_type": "execute_result"
    }
   ],
   "source": [
    "instagram_df_test.head()"
   ]
  },
  {
   "cell_type": "code",
   "execution_count": 55,
   "id": "70371500",
   "metadata": {
    "execution": {
     "iopub.execute_input": "2023-05-06T18:32:18.830822Z",
     "iopub.status.busy": "2023-05-06T18:32:18.830069Z",
     "iopub.status.idle": "2023-05-06T18:32:18.843362Z",
     "shell.execute_reply": "2023-05-06T18:32:18.842446Z"
    },
    "papermill": {
     "duration": 0.051788,
     "end_time": "2023-05-06T18:32:18.845583",
     "exception": false,
     "start_time": "2023-05-06T18:32:18.793795",
     "status": "completed"
    },
    "scrolled": true,
    "tags": []
   },
   "outputs": [
    {
     "data": {
      "text/html": [
       "<div>\n",
       "<style scoped>\n",
       "    .dataframe tbody tr th:only-of-type {\n",
       "        vertical-align: middle;\n",
       "    }\n",
       "\n",
       "    .dataframe tbody tr th {\n",
       "        vertical-align: top;\n",
       "    }\n",
       "\n",
       "    .dataframe thead th {\n",
       "        text-align: right;\n",
       "    }\n",
       "</style>\n",
       "<table border=\"1\" class=\"dataframe\">\n",
       "  <thead>\n",
       "    <tr style=\"text-align: right;\">\n",
       "      <th></th>\n",
       "      <th>profile pic</th>\n",
       "      <th>nums/length username</th>\n",
       "      <th>fullname words</th>\n",
       "      <th>nums/length fullname</th>\n",
       "      <th>name==username</th>\n",
       "      <th>description length</th>\n",
       "      <th>external URL</th>\n",
       "      <th>private</th>\n",
       "      <th>#posts</th>\n",
       "      <th>#followers</th>\n",
       "      <th>#follows</th>\n",
       "      <th>fake</th>\n",
       "    </tr>\n",
       "  </thead>\n",
       "  <tbody>\n",
       "    <tr>\n",
       "      <th>115</th>\n",
       "      <td>1</td>\n",
       "      <td>0.29</td>\n",
       "      <td>1</td>\n",
       "      <td>0.0</td>\n",
       "      <td>0</td>\n",
       "      <td>0</td>\n",
       "      <td>0</td>\n",
       "      <td>0</td>\n",
       "      <td>13</td>\n",
       "      <td>114</td>\n",
       "      <td>811</td>\n",
       "      <td>1</td>\n",
       "    </tr>\n",
       "    <tr>\n",
       "      <th>116</th>\n",
       "      <td>1</td>\n",
       "      <td>0.40</td>\n",
       "      <td>1</td>\n",
       "      <td>0.0</td>\n",
       "      <td>0</td>\n",
       "      <td>0</td>\n",
       "      <td>0</td>\n",
       "      <td>0</td>\n",
       "      <td>4</td>\n",
       "      <td>150</td>\n",
       "      <td>164</td>\n",
       "      <td>1</td>\n",
       "    </tr>\n",
       "    <tr>\n",
       "      <th>117</th>\n",
       "      <td>1</td>\n",
       "      <td>0.00</td>\n",
       "      <td>2</td>\n",
       "      <td>0.0</td>\n",
       "      <td>0</td>\n",
       "      <td>0</td>\n",
       "      <td>0</td>\n",
       "      <td>0</td>\n",
       "      <td>3</td>\n",
       "      <td>833</td>\n",
       "      <td>3572</td>\n",
       "      <td>1</td>\n",
       "    </tr>\n",
       "    <tr>\n",
       "      <th>118</th>\n",
       "      <td>0</td>\n",
       "      <td>0.17</td>\n",
       "      <td>1</td>\n",
       "      <td>0.0</td>\n",
       "      <td>0</td>\n",
       "      <td>0</td>\n",
       "      <td>0</td>\n",
       "      <td>0</td>\n",
       "      <td>1</td>\n",
       "      <td>219</td>\n",
       "      <td>1695</td>\n",
       "      <td>1</td>\n",
       "    </tr>\n",
       "    <tr>\n",
       "      <th>119</th>\n",
       "      <td>1</td>\n",
       "      <td>0.44</td>\n",
       "      <td>1</td>\n",
       "      <td>0.0</td>\n",
       "      <td>0</td>\n",
       "      <td>0</td>\n",
       "      <td>0</td>\n",
       "      <td>0</td>\n",
       "      <td>3</td>\n",
       "      <td>39</td>\n",
       "      <td>68</td>\n",
       "      <td>1</td>\n",
       "    </tr>\n",
       "  </tbody>\n",
       "</table>\n",
       "</div>"
      ],
      "text/plain": [
       "     profile pic  nums/length username  fullname words  nums/length fullname  \\\n",
       "115            1                  0.29               1                   0.0   \n",
       "116            1                  0.40               1                   0.0   \n",
       "117            1                  0.00               2                   0.0   \n",
       "118            0                  0.17               1                   0.0   \n",
       "119            1                  0.44               1                   0.0   \n",
       "\n",
       "     name==username  description length  external URL  private  #posts  \\\n",
       "115               0                   0             0        0      13   \n",
       "116               0                   0             0        0       4   \n",
       "117               0                   0             0        0       3   \n",
       "118               0                   0             0        0       1   \n",
       "119               0                   0             0        0       3   \n",
       "\n",
       "     #followers  #follows  fake  \n",
       "115         114       811     1  \n",
       "116         150       164     1  \n",
       "117         833      3572     1  \n",
       "118         219      1695     1  \n",
       "119          39        68     1  "
      ]
     },
     "execution_count": 55,
     "metadata": {},
     "output_type": "execute_result"
    }
   ],
   "source": [
    "instagram_df_test.tail()"
   ]
  },
  {
   "cell_type": "markdown",
   "id": "57661f26",
   "metadata": {
    "papermill": {
     "duration": 0.03478,
     "end_time": "2023-05-06T18:32:18.916122",
     "exception": false,
     "start_time": "2023-05-06T18:32:18.881342",
     "status": "completed"
    },
    "tags": []
   },
   "source": [
    "MINI CHALLENGE #2 SOLUTION:\n",
    "- Perform exploratory data analysis on the testing dataset"
   ]
  },
  {
   "cell_type": "code",
   "execution_count": 56,
   "id": "71b216b8",
   "metadata": {
    "execution": {
     "iopub.execute_input": "2023-05-06T18:32:18.991179Z",
     "iopub.status.busy": "2023-05-06T18:32:18.990505Z",
     "iopub.status.idle": "2023-05-06T18:32:19.034147Z",
     "shell.execute_reply": "2023-05-06T18:32:19.032953Z"
    },
    "papermill": {
     "duration": 0.085005,
     "end_time": "2023-05-06T18:32:19.036296",
     "exception": false,
     "start_time": "2023-05-06T18:32:18.951291",
     "status": "completed"
    },
    "tags": []
   },
   "outputs": [
    {
     "name": "stdout",
     "output_type": "stream",
     "text": [
      "<class 'pandas.core.frame.DataFrame'>\n",
      "RangeIndex: 120 entries, 0 to 119\n",
      "Data columns (total 12 columns):\n",
      " #   Column                Non-Null Count  Dtype  \n",
      "---  ------                --------------  -----  \n",
      " 0   profile pic           120 non-null    int64  \n",
      " 1   nums/length username  120 non-null    float64\n",
      " 2   fullname words        120 non-null    int64  \n",
      " 3   nums/length fullname  120 non-null    float64\n",
      " 4   name==username        120 non-null    int64  \n",
      " 5   description length    120 non-null    int64  \n",
      " 6   external URL          120 non-null    int64  \n",
      " 7   private               120 non-null    int64  \n",
      " 8   #posts                120 non-null    int64  \n",
      " 9   #followers            120 non-null    int64  \n",
      " 10  #follows              120 non-null    int64  \n",
      " 11  fake                  120 non-null    int64  \n",
      "dtypes: float64(2), int64(10)\n",
      "memory usage: 11.4 KB\n"
     ]
    },
    {
     "data": {
      "text/plain": [
       "0    60\n",
       "1    60\n",
       "Name: fake, dtype: int64"
      ]
     },
     "execution_count": 56,
     "metadata": {},
     "output_type": "execute_result"
    }
   ],
   "source": [
    "# Getting dataframe info\n",
    "instagram_df_test.info()\n",
    "# Get the statistical summary of the dataframe\n",
    "instagram_df_test.describe()\n",
    "# Checking null values\n",
    "instagram_df_test.isnull().sum()\n",
    "# Get the number of unique values in the profile pic\n",
    "instagram_df_test['profile pic'].value_counts()\n",
    "# Get the number of unique values\n",
    "instagram_df_test['fake'].value_counts()"
   ]
  },
  {
   "cell_type": "markdown",
   "id": "a80dc402",
   "metadata": {
    "papermill": {
     "duration": 0.034396,
     "end_time": "2023-05-06T18:32:19.106111",
     "exception": false,
     "start_time": "2023-05-06T18:32:19.071715",
     "status": "completed"
    },
    "tags": []
   },
   "source": [
    "MINI CHALLENGE #3 SOLUTION:\n",
    "- Plot the count plot for 'fake', 'profile pic' and 'private' testing dataset"
   ]
  },
  {
   "cell_type": "code",
   "execution_count": 57,
   "id": "8dee9f8b",
   "metadata": {
    "execution": {
     "iopub.execute_input": "2023-05-06T18:32:19.178145Z",
     "iopub.status.busy": "2023-05-06T18:32:19.177039Z",
     "iopub.status.idle": "2023-05-06T18:32:19.352764Z",
     "shell.execute_reply": "2023-05-06T18:32:19.351700Z"
    },
    "papermill": {
     "duration": 0.213946,
     "end_time": "2023-05-06T18:32:19.354973",
     "exception": false,
     "start_time": "2023-05-06T18:32:19.141027",
     "status": "completed"
    },
    "tags": []
   },
   "outputs": [
    {
     "data": {
      "text/plain": [
       "<AxesSubplot: ylabel='count'>"
      ]
     },
     "execution_count": 57,
     "metadata": {},
     "output_type": "execute_result"
    },
    {
     "data": {
      "image/png": "[encoded data removed]",
      "text/plain": [
       "<Figure size 640x480 with 1 Axes>"
      ]
     },
     "metadata": {},
     "output_type": "display_data"
    }
   ],
   "source": [
    "sns.countplot(instagram_df_test['fake'])\n",
    "\n",
    "sns.countplot(instagram_df_test['private'])\n",
    "\n",
    "sns.countplot(instagram_df_test['profile pic'])"
   ]
  },
  {
   "cell_type": "markdown",
   "id": "cd55a375",
   "metadata": {
    "papermill": {
     "duration": 0.034948,
     "end_time": "2023-05-06T18:32:19.425543",
     "exception": false,
     "start_time": "2023-05-06T18:32:19.390595",
     "status": "completed"
    },
    "tags": []
   },
   "source": [
    "MINI CHALLENGE #4 SOLUTION:\n",
    "- Print out the shapes of the training and testing datasets\n",
    "- What is the % of the training and testing data?\n"
   ]
  },
  {
   "cell_type": "code",
   "execution_count": 58,
   "id": "247a70b3",
   "metadata": {
    "execution": {
     "iopub.execute_input": "2023-05-06T18:32:19.498192Z",
     "iopub.status.busy": "2023-05-06T18:32:19.497777Z",
     "iopub.status.idle": "2023-05-06T18:32:19.504117Z",
     "shell.execute_reply": "2023-05-06T18:32:19.503181Z"
    },
    "papermill": {
     "duration": 0.045621,
     "end_time": "2023-05-06T18:32:19.506278",
     "exception": false,
     "start_time": "2023-05-06T18:32:19.460657",
     "status": "completed"
    },
    "tags": []
   },
   "outputs": [
    {
     "data": {
      "text/plain": [
       "((576, 11), (120, 11), (576, 2), (120, 2))"
      ]
     },
     "execution_count": 58,
     "metadata": {},
     "output_type": "execute_result"
    }
   ],
   "source": [
    "# print the shapes of training and testing datasets \n",
    "X_train.shape, X_test.shape, y_train.shape, y_test.shape"
   ]
  },
  {
   "cell_type": "code",
   "execution_count": 59,
   "id": "7fdf0819",
   "metadata": {
    "execution": {
     "iopub.execute_input": "2023-05-06T18:32:19.579458Z",
     "iopub.status.busy": "2023-05-06T18:32:19.579040Z",
     "iopub.status.idle": "2023-05-06T18:32:19.586204Z",
     "shell.execute_reply": "2023-05-06T18:32:19.585278Z"
    },
    "papermill": {
     "duration": 0.046197,
     "end_time": "2023-05-06T18:32:19.588228",
     "exception": false,
     "start_time": "2023-05-06T18:32:19.542031",
     "status": "completed"
    },
    "tags": []
   },
   "outputs": [
    {
     "data": {
      "text/plain": [
       "82.75862068965517"
      ]
     },
     "execution_count": 59,
     "metadata": {},
     "output_type": "execute_result"
    }
   ],
   "source": [
    "Training_data = len(X_train)/( len(X_test) + len(X_train) ) * 100\n",
    "Training_data"
   ]
  },
  {
   "cell_type": "code",
   "execution_count": 60,
   "id": "d9de2a33",
   "metadata": {
    "execution": {
     "iopub.execute_input": "2023-05-06T18:32:19.661061Z",
     "iopub.status.busy": "2023-05-06T18:32:19.660452Z",
     "iopub.status.idle": "2023-05-06T18:32:19.666054Z",
     "shell.execute_reply": "2023-05-06T18:32:19.665009Z"
    },
    "papermill": {
     "duration": 0.044518,
     "end_time": "2023-05-06T18:32:19.668011",
     "exception": false,
     "start_time": "2023-05-06T18:32:19.623493",
     "status": "completed"
    },
    "tags": []
   },
   "outputs": [
    {
     "data": {
      "text/plain": [
       "17.24137931034483"
      ]
     },
     "execution_count": 60,
     "metadata": {},
     "output_type": "execute_result"
    }
   ],
   "source": [
    "Testing_data = len(X_test)/( len(X_test) + len(X_train) ) * 100\n",
    "Testing_data"
   ]
  },
  {
   "cell_type": "markdown",
   "id": "b6057a17",
   "metadata": {
    "papermill": {
     "duration": 0.035595,
     "end_time": "2023-05-06T18:32:19.739200",
     "exception": false,
     "start_time": "2023-05-06T18:32:19.703605",
     "status": "completed"
    },
    "tags": []
   },
   "source": [
    "MINI CHALLENGE #5 SOLUTION:\n",
    "- Add a new hidden layer with 25 neurons and 'relu' activation function\n",
    "- Print out the model summary and inicate how many trainable parameters\n"
   ]
  },
  {
   "cell_type": "code",
   "execution_count": 61,
   "id": "be9a0fd2",
   "metadata": {
    "execution": {
     "iopub.execute_input": "2023-05-06T18:32:19.813047Z",
     "iopub.status.busy": "2023-05-06T18:32:19.812392Z",
     "iopub.status.idle": "2023-05-06T18:32:19.907150Z",
     "shell.execute_reply": "2023-05-06T18:32:19.905781Z"
    },
    "papermill": {
     "duration": 0.138161,
     "end_time": "2023-05-06T18:32:19.913156",
     "exception": false,
     "start_time": "2023-05-06T18:32:19.774995",
     "status": "completed"
    },
    "tags": []
   },
   "outputs": [
    {
     "name": "stdout",
     "output_type": "stream",
     "text": [
      "Model: \"sequential_2\"\n",
      "_________________________________________________________________\n",
      " Layer (type)                Output Shape              Param #   \n",
      "=================================================================\n",
      " dense_9 (Dense)             (None, 50)                600       \n",
      "                                                                 \n",
      " dense_10 (Dense)            (None, 150)               7650      \n",
      "                                                                 \n",
      " dropout_5 (Dropout)         (None, 150)               0         \n",
      "                                                                 \n",
      " dense_11 (Dense)            (None, 25)                3775      \n",
      "                                                                 \n",
      " dropout_6 (Dropout)         (None, 25)                0         \n",
      "                                                                 \n",
      " dense_12 (Dense)            (None, 25)                650       \n",
      "                                                                 \n",
      " dropout_7 (Dropout)         (None, 25)                0         \n",
      "                                                                 \n",
      " dense_13 (Dense)            (None, 2)                 52        \n",
      "                                                                 \n",
      "=================================================================\n",
      "Total params: 12,727\n",
      "Trainable params: 12,727\n",
      "Non-trainable params: 0\n",
      "_________________________________________________________________\n"
     ]
    }
   ],
   "source": [
    "import tensorflow.keras\n",
    "from tensorflow.keras.models import Sequential\n",
    "from tensorflow.keras.layers import Dense, Dropout\n",
    "\n",
    "model = Sequential()\n",
    "model.add(Dense(50, input_dim=11, activation='relu'))\n",
    "model.add(Dense(150, activation='relu'))\n",
    "model.add(Dropout(0.3))\n",
    "model.add(Dense(25, activation='relu'))\n",
    "model.add(Dropout(0.3))\n",
    "model.add(Dense(25, activation='relu'))\n",
    "model.add(Dropout(0.3))\n",
    "model.add(Dense(2, activation='softmax'))\n",
    "model.summary()\n",
    "\n",
    "# Trainable params: 12,727"
   ]
  },
  {
   "cell_type": "markdown",
   "id": "472cad5b",
   "metadata": {
    "papermill": {
     "duration": 0.037677,
     "end_time": "2023-05-06T18:32:19.988818",
     "exception": false,
     "start_time": "2023-05-06T18:32:19.951141",
     "status": "completed"
    },
    "tags": []
   },
   "source": [
    "MINI CHALLENGE #6 SOLUTION:\n",
    "- Retrain the model for more epochs (~30) and reassess model performance"
   ]
  },
  {
   "cell_type": "code",
   "execution_count": 62,
   "id": "31b2f48f",
   "metadata": {
    "execution": {
     "iopub.execute_input": "2023-05-06T18:32:20.066524Z",
     "iopub.status.busy": "2023-05-06T18:32:20.066162Z",
     "iopub.status.idle": "2023-05-06T18:32:23.751209Z",
     "shell.execute_reply": "2023-05-06T18:32:23.750025Z"
    },
    "id": "UxpgPJ63-vj2",
    "papermill": {
     "duration": 3.726409,
     "end_time": "2023-05-06T18:32:23.753759",
     "exception": false,
     "start_time": "2023-05-06T18:32:20.027350",
     "status": "completed"
    },
    "tags": []
   },
   "outputs": [
    {
     "name": "stdout",
     "output_type": "stream",
     "text": [
      "Epoch 1/30\n",
      "17/17 [==============================] - 1s 15ms/step - loss: 0.6633 - accuracy: 0.6448 - val_loss: 0.5526 - val_accuracy: 0.7759\n",
      "Epoch 2/30\n",
      "17/17 [==============================] - 0s 4ms/step - loss: 0.4884 - accuracy: 0.8398 - val_loss: 0.3551 - val_accuracy: 0.8621\n",
      "Epoch 3/30\n",
      "17/17 [==============================] - 0s 4ms/step - loss: 0.3532 - accuracy: 0.8629 - val_loss: 0.2471 - val_accuracy: 0.8966\n",
      "Epoch 4/30\n",
      "17/17 [==============================] - 0s 4ms/step - loss: 0.2712 - accuracy: 0.9131 - val_loss: 0.2569 - val_accuracy: 0.8793\n",
      "Epoch 5/30\n",
      "17/17 [==============================] - 0s 4ms/step - loss: 0.2698 - accuracy: 0.9035 - val_loss: 0.1873 - val_accuracy: 0.9138\n",
      "Epoch 6/30\n",
      "17/17 [==============================] - 0s 4ms/step - loss: 0.2770 - accuracy: 0.9015 - val_loss: 0.2222 - val_accuracy: 0.8966\n",
      "Epoch 7/30\n",
      "17/17 [==============================] - 0s 4ms/step - loss: 0.2650 - accuracy: 0.9073 - val_loss: 0.1800 - val_accuracy: 0.9138\n",
      "Epoch 8/30\n",
      "17/17 [==============================] - 0s 4ms/step - loss: 0.2517 - accuracy: 0.9112 - val_loss: 0.1952 - val_accuracy: 0.9138\n",
      "Epoch 9/30\n",
      "17/17 [==============================] - 0s 4ms/step - loss: 0.2535 - accuracy: 0.9189 - val_loss: 0.2165 - val_accuracy: 0.9138\n",
      "Epoch 10/30\n",
      "17/17 [==============================] - 0s 4ms/step - loss: 0.2385 - accuracy: 0.9151 - val_loss: 0.2161 - val_accuracy: 0.9138\n",
      "Epoch 11/30\n",
      "17/17 [==============================] - 0s 4ms/step - loss: 0.2133 - accuracy: 0.9189 - val_loss: 0.2280 - val_accuracy: 0.8966\n",
      "Epoch 12/30\n",
      "17/17 [==============================] - 0s 4ms/step - loss: 0.2286 - accuracy: 0.9151 - val_loss: 0.2436 - val_accuracy: 0.8966\n",
      "Epoch 13/30\n",
      "17/17 [==============================] - 0s 4ms/step - loss: 0.2122 - accuracy: 0.9228 - val_loss: 0.2080 - val_accuracy: 0.9310\n",
      "Epoch 14/30\n",
      "17/17 [==============================] - 0s 4ms/step - loss: 0.2196 - accuracy: 0.9228 - val_loss: 0.2290 - val_accuracy: 0.9138\n",
      "Epoch 15/30\n",
      "17/17 [==============================] - 0s 4ms/step - loss: 0.2158 - accuracy: 0.9324 - val_loss: 0.2175 - val_accuracy: 0.9310\n",
      "Epoch 16/30\n",
      "17/17 [==============================] - 0s 4ms/step - loss: 0.2012 - accuracy: 0.9247 - val_loss: 0.2286 - val_accuracy: 0.9138\n",
      "Epoch 17/30\n",
      "17/17 [==============================] - 0s 4ms/step - loss: 0.1929 - accuracy: 0.9208 - val_loss: 0.2417 - val_accuracy: 0.8793\n",
      "Epoch 18/30\n",
      "17/17 [==============================] - 0s 4ms/step - loss: 0.1892 - accuracy: 0.9266 - val_loss: 0.2224 - val_accuracy: 0.9310\n",
      "Epoch 19/30\n",
      "17/17 [==============================] - 0s 4ms/step - loss: 0.1841 - accuracy: 0.9286 - val_loss: 0.2364 - val_accuracy: 0.8966\n",
      "Epoch 20/30\n",
      "17/17 [==============================] - 0s 4ms/step - loss: 0.1855 - accuracy: 0.9382 - val_loss: 0.2810 - val_accuracy: 0.8966\n",
      "Epoch 21/30\n",
      "17/17 [==============================] - 0s 4ms/step - loss: 0.1840 - accuracy: 0.9286 - val_loss: 0.2840 - val_accuracy: 0.8793\n",
      "Epoch 22/30\n",
      "17/17 [==============================] - 0s 4ms/step - loss: 0.1703 - accuracy: 0.9382 - val_loss: 0.2663 - val_accuracy: 0.8966\n",
      "Epoch 23/30\n",
      "17/17 [==============================] - 0s 4ms/step - loss: 0.1789 - accuracy: 0.9402 - val_loss: 0.2729 - val_accuracy: 0.8966\n",
      "Epoch 24/30\n",
      "17/17 [==============================] - 0s 4ms/step - loss: 0.1759 - accuracy: 0.9421 - val_loss: 0.2610 - val_accuracy: 0.8966\n",
      "Epoch 25/30\n",
      "17/17 [==============================] - 0s 4ms/step - loss: 0.1761 - accuracy: 0.9266 - val_loss: 0.2830 - val_accuracy: 0.8966\n",
      "Epoch 26/30\n",
      "17/17 [==============================] - 0s 4ms/step - loss: 0.1683 - accuracy: 0.9402 - val_loss: 0.2480 - val_accuracy: 0.8966\n",
      "Epoch 27/30\n",
      "17/17 [==============================] - 0s 4ms/step - loss: 0.1705 - accuracy: 0.9266 - val_loss: 0.2805 - val_accuracy: 0.8966\n",
      "Epoch 28/30\n",
      "17/17 [==============================] - 0s 4ms/step - loss: 0.1531 - accuracy: 0.9421 - val_loss: 0.3050 - val_accuracy: 0.8966\n",
      "Epoch 29/30\n",
      "17/17 [==============================] - 0s 4ms/step - loss: 0.1449 - accuracy: 0.9421 - val_loss: 0.4238 - val_accuracy: 0.8448\n",
      "Epoch 30/30\n",
      "17/17 [==============================] - 0s 4ms/step - loss: 0.1621 - accuracy: 0.9266 - val_loss: 0.4090 - val_accuracy: 0.8621\n"
     ]
    }
   ],
   "source": [
    "model.compile(optimizer = 'adam', loss = 'categorical_crossentropy', metrics = ['accuracy'])\n",
    "epochs_hist = model.fit(X_train, y_train, epochs = 30,  verbose = 1, validation_split = 0.1)"
   ]
  }
 ],
 "metadata": {
  "kernelspec": {
   "display_name": "Python 3",
   "language": "python",
   "name": "python3"
  },
  "language_info": {
   "codemirror_mode": {
    "name": "ipython",
    "version": 3
   },
   "file_extension": ".py",
   "mimetype": "text/x-python",
   "name": "python",
   "nbconvert_exporter": "python",
   "pygments_lexer": "ipython3",
   "version": "3.10.10"
  },
  "papermill": {
   "default_parameters": {},
   "duration": 42.622739,
   "end_time": "2023-05-06T18:32:27.394655",
   "environment_variables": {},
   "exception": null,
   "input_path": "__notebook__.ipynb",
   "output_path": "__notebook__.ipynb",
   "parameters": {},
   "start_time": "2023-05-06T18:31:44.771916",
   "version": "2.4.0"
  }
 },
 "nbformat": 4,
 "nbformat_minor": 5
}
